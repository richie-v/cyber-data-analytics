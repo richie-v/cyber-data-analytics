{
  "cells": [
    {
      "cell_type": "code",
      "execution_count": 45,
      "metadata": {
        "collapsed": true,
        "pycharm": {
          "is_executing": false
        }
      },
      "outputs": [],
      "source": "# Import libraries"
    },
    {
      "cell_type": "code",
      "execution_count": 3,
      "outputs": [],
      "source": "import numpy as np\nimport pandas as pd\nimport matplotlib.pyplot as plt\nfrom statsmodels.tsa.arima_model import ARMA",
      "metadata": {
        "pycharm": {
          "metadata": false,
          "name": "#%%\n",
          "is_executing": false
        }
      }
    },
    {
      "cell_type": "markdown",
      "source": "# import the training sets",
      "metadata": {
        "pycharm": {
          "metadata": false,
          "name": "#%% md\n"
        }
      }
    },
    {
      "cell_type": "code",
      "source": "",
      "metadata": {
        "pycharm": {
          "metadata": false,
          "name": "#%%\n",
          "is_executing": false
        }
      },
      "execution_count": 46,
      "outputs": []
    },
    {
      "cell_type": "code",
      "execution_count": 4,
      "outputs": [],
      "source": "df \u003d pd.read_csv(\u0027./datasets/BATADAL_dataset03.csv\u0027)\ndf2 \u003d pd.read_csv(\u0027./datasets/BATADAL_dataset04.csv\u0027)\ndf2.columns \u003d df2.columns.str.replace(\u0027 \u0027, \u0027\u0027)",
      "metadata": {
        "pycharm": {
          "metadata": false,
          "name": "#%%\n",
          "is_executing": false
        }
      }
    },
    {
      "cell_type": "markdown",
      "source": "# Fit model for First 5 pump flow signals",
      "metadata": {
        "pycharm": {
          "metadata": false,
          "name": "#%% md\n"
        }
      }
    },
    {
      "cell_type": "code",
      "execution_count": 12,
      "outputs": [
        {
          "name": "stderr",
          "text": [
            "/usr/local/lib/python3.6/dist-packages/statsmodels/base/model.py:508: ConvergenceWarning: Maximum Likelihood optimization failed to converge. Check mle_retvals\n  \"Check mle_retvals\", ConvergenceWarning)\n"
          ],
          "output_type": "stream"
        }
      ],
      "source": "# change F_PU1 with F_PU values which work for order\u003d(4,4)\nsignal \u003d \"F_PU7\"\nmodel \u003d ARMA(df[signal], order\u003d(4,4))\nmodel_fit \u003d model.fit()",
      "metadata": {
        "pycharm": {
          "metadata": false,
          "name": "#%%\n",
          "is_executing": false
        }
      }
    },
    {
      "cell_type": "markdown",
      "source": "# Create prediction function",
      "metadata": {
        "pycharm": {
          "metadata": false,
          "name": "#%% md\n"
        }
      }
    },
    {
      "cell_type": "code",
      "execution_count": 6,
      "outputs": [],
      "source": "def predict(coefficent, history):\n    res \u003d 0.0\n    for i in range(1, len(coefficent)+1):\n        res +\u003d coefficent[i-1] * history[-i]\n    return res",
      "metadata": {
        "pycharm": {
          "metadata": false,
          "name": "#%%\n",
          "is_executing": false
        }
      }
    },
    {
      "cell_type": "markdown",
      "source": "# Predict + Find Residuals",
      "metadata": {
        "pycharm": {
          "metadata": false,
          "name": "#%% md\n"
        }
      }
    },
    {
      "cell_type": "code",
      "execution_count": 17,
      "outputs": [],
      "source": "test \u003d df2[signal]\n\nar_coefficients \u003d model_fit.arparams\nma_coefficients \u003d model_fit.maparams\n\nresid \u003d [x for x in model_fit.resid]\nhistory \u003d [x for x in df[signal]]\n\n# start predicting!\npredictions \u003d list()\nfor t in range(len(test)):\n    # next value prediction\n    new_prediction \u003d predict(ar_coefficients, history) + predict(ma_coefficients, resid)\n    \n    predictions.append(new_prediction)\n    obs \u003d test[t]\n    history.append(obs)\n    resid.append(obs-new_prediction)\n\n# compute residuals\nres \u003d np.subtract(test, predictions)\nres \u003d res - np.mean(res)\n",
      "metadata": {
        "pycharm": {
          "metadata": false,
          "name": "#%%\n",
          "is_executing": false
        }
      }
    },
    {
      "cell_type": "markdown",
      "source": "# Plot Signals",
      "metadata": {
        "pycharm": {
          "metadata": false,
          "name": "#%% md\n"
        }
      }
    },
    {
      "cell_type": "code",
      "execution_count": 21,
      "outputs": [
        {
          "data": {
            "text/plain": "\u003cFigure size 432x288 with 1 Axes\u003e",
            "image/png": "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\u003d\n"
          },
          "metadata": {
            "needs_background": "light"
          },
          "output_type": "display_data"
        }
      ],
      "source": "\n# plot residuals and the truth label\nplt.plot(res)\nplt.plot(df2[\u0027ATT_FLAG\u0027])\naxes \u003d plt.gca()\naxes.set_ylim([-150,30])\nplt.legend()\nplt.show()\n",
      "metadata": {
        "pycharm": {
          "metadata": false,
          "name": "#%% \n",
          "is_executing": false
        }
      }
    },
    {
      "cell_type": "markdown",
      "source": "# print predictions",
      "metadata": {
        "pycharm": {
          "metadata": false,
          "name": "#%% md\n"
        }
      }
    },
    {
      "cell_type": "code",
      "execution_count": 23,
      "outputs": [
        {
          "name": "stdout",
          "text": [
            "4177\n"
          ],
          "output_type": "stream"
        }
      ],
      "source": "print(len(df2[\u0027ATT_FLAG\u0027]))",
      "metadata": {
        "pycharm": {
          "metadata": false,
          "name": "#%%\n",
          "is_executing": false
        }
      }
    }
  ],
  "metadata": {
    "language_info": {
      "codemirror_mode": {
        "name": "ipython",
        "version": 2
      },
      "file_extension": ".py",
      "mimetype": "text/x-python",
      "name": "python",
      "nbconvert_exporter": "python",
      "pygments_lexer": "ipython2",
      "version": "2.7.6"
    },
    "kernelspec": {
      "name": "pycharm-b0b00ddc",
      "language": "python",
      "display_name": "PyCharm (assignment2)"
    }
  },
  "nbformat": 4,
  "nbformat_minor": 0
}