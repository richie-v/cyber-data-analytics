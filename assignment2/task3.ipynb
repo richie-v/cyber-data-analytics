{
  "cells": [
    {
      "cell_type": "markdown",
      "source": "## Import and input + data preperation",
      "metadata": {
        "pycharm": {
          "metadata": false
        }
      }
    },
    {
      "cell_type": "code",
      "execution_count": 38,
      "outputs": [],
      "source": "import pandas as pd\nfrom saxpy.sax import *\nimport numpy as np\nfrom matplotlib import pyplot as plt\n\ndf1 \u003d pd.read_csv(\u0027./datasets/BATADAL_dataset03.csv\u0027)\ndf2 \u003d pd.read_csv(\u0027./datasets/BATADAL_dataset04.csv\u0027)\ndf2.columns \u003d df2.columns.str.replace(\u0027 \u0027, \u0027\u0027)\n# all timestamps for attacks\nattack_timestamps \u003d list(df2.loc[df2[\u0027ATT_FLAG\u0027]\u003d\u003d1].index)\n",
      "metadata": {
        "pycharm": {
          "metadata": false,
          "name": "#%%\n",
          "is_executing": false
        }
      }
    },
    {
      "cell_type": "markdown",
      "source": "## Discretize data and visualization",
      "metadata": {
        "pycharm": {
          "metadata": false
        }
      }
    },
    {
      "cell_type": "code",
      "execution_count": 37,
      "outputs": [
        {
          "data": {
            "text/plain": "\u003cFigure size 432x288 with 1 Axes\u003e",
            "image/png": "iVBORw0KGgoAAAANSUhEUgAAAW0AAAD8CAYAAAC8TPVwAAAABHNCSVQICAgIfAhkiAAAAAlwSFlzAAALEgAACxIB0t1+/AAAADl0RVh0U29mdHdhcmUAbWF0cGxvdGxpYiB2ZXJzaW9uIDMuMC4zLCBodHRwOi8vbWF0cGxvdGxpYi5vcmcvnQurowAAIABJREFUeJztnX/QHdV537/PXgnJQjI/JIQdhPSCEcZ4sAlWHENd49A4PzxJqKe4xWntuHiGmSSduO1kKjq0LqRhJm4TZlqnsceZkNI4RSl2nLik/lljt8aBWITfFtTCQkYgDBJIQhZCr+6e/rG7977Su/s8z91f55x9n8+M5r66u3f37J6zz57z/CTnHAzDMIw4SHw3wDAMw9BjQtswDCMiTGgbhmFEhAltwzCMiDChbRiGEREmtA3DMCLChLZhGEZEmNA2DMOICBPahmEYEbGs7QOuW7fOzc3NtX1YwzCMQXP//ffvc86dJe3XutCem5vD9u3b2z6sYRjGoCGi3Zr9TD1iGIYRESa0DcMwIsKEtmEYRkS0rtMuY35+Hnv27MHRo0f7OJ03Vq5ciQ0bNmD58uW+m2IYxkDpRWjv2bMHa9aswdzcHIioj1P2jnMO+/fvx549e3Deeef5bo5hGAOlF/XI0aNHsXbt2sEKbAAgIqxdu3bwqwnDMPzSm057yAK7YClco2EYflGpR4joQwB+E4AD8LBz7oOdtsqozY69h/DFR/ZWbn/D+tW4+tJzKrcffGUen7l3N16dH5duX7ViGT58xRxWLh/VbuOXHt2L7z57qHL7T198Nt6y4fTax4+Be7+/H9/eua9y+9vmzsSVF4pxFrU5Pk7xx/c8hZePzpduXzZK8I9/ciPWrl7RWRu6RnONv/yTG7GOucYvP/YcHnvmYOX2q950Ni49t9+xKgptInozgH8D4Arn3D4iOrNkn+sBXA8AGzdubL2Rhp5PffNJ/OWDz6Js0u8ccMooYYX23Y8/j//45ScAYNExinKibznnNFxxwbrabbzhzx/BgSPzlW3c8dzL+MMPbal9/Bj4+JcexwM/OFB5Dy5YvxpX/ssrOzv/d/cewi3/aweA6n4+49RT8MF3bOqsDV2zY+/L8jWuWo4PXj5XeYwbP/8I9h0+VtlPjz57CLd9+CdaarEOzUz7KgB3Ouf2AYBz7sWTd3DOfRrApwFgy5YtQVYKXr16NQ4fPszuc8stt+DOO+8EADzyyCO45JJLAADXXXcddu3ahbvvvhsAcOTIETz//PM4cOBAt42uwfGxwwXrV+NrJQ/8rV95Ap+4eyf7+/lxCgD4v//qp3DumatO2Hb/7pfwDz75bcynzbr4+NjhI+88D//2Fy5etO2Xfv9bOJ63YcgcHztcddH60gf+o9sewENPdzu25sdZH95+3dsXzegPHDmGS3/rq9H3w3yatf+//tOfwLvfuP6EbQePzOOtv/WVyX2oPMbY4cNXzOGmX3rzom3v+4N7Js9Ln/TiPRILN954I2688UYAmZB/8MEHS/f7xCc+gQceeKDPpqkZpw5JhWqdiOBc5ulSpX9P8ylIUnKQ4qu0odCW2ig8R4OAuwcJEcau25sw6eeSNhRjY9ywn31TjNOkZKxTbs1Lhfucpq50ll0cV/p9F2iE9tcBfJ6IbnXO7SeiM8tm21pu/p+PsfrMOlz8Y6/Fv/vFxW/Crrjjjjtw880393a+WUidKx2kADDKn9DUAaOKgVg8p6OSY0x/32ygps6VvhSy82YvlaHD9VNChLTjCVwh0Lh+jr0bJmO5ZKwV1y0KbedK71FxjK77qQxRaDvnHiOiWwB8k4jGAB4A8OGuGxYqu3fvxq5du3DVVVf5bkopvDDIPsepKx3IxbaF+574+3ZmYJLAin2Gp0Hqp65ncMVMvmzFNRknkUvtYhyV3ebpWBaOwUwwiPzcI5V6xDl3O4Db2zhhnzPiLti2bRuuueYajEb1vSe6hBPIiWKmzKtH2plpj9Pq2UuSLA2hzfXTqId7UMwQy9rQ1svZN8U4LRtriVo9Uq5eAbJ7d+x4/1Ntyz0yI9u2bcMHPvAB382oJHXlAhfQLQk1y+amz7LUxsgneCoccw+ShBrfY4mJQCuRAFP1SNwdMb1GRj0i3OjUudJ7VBzXh07bhPYMPP7443jppZdw+eWX+25KJdmyu3ybZgZVGAHLZhcL1Su128eoX4BsBhT7slzDmO0n3+oRneogdKbqEeYahfs8ZtRYvozmS0ZoHzlyBBs2bJj8u/XWW2c+xrZt23DttdcGHfkoqR4AsMaTiVAtGRka9YrYPmbJCiwdnTbXT6Me7gG3ohqKTpubaU+fheprdM5lK6LKfmruSVWHJePyl85o5i3z6b7ppptaak13SJ4ZxT7c74FmFnepfQCjHkko+mW5Blk90rXLX/ZZ1s9EhGQAXjwTvT2jk+ZkLnePpr839YjRkMxwUr6tEBLcDKrYVq4eab5sLh4k1nskcmGhQfLT7noGx3lWFG2IfcUzVQGVb08E7w/Okyo7rp97tGRm2iezMPqx4P3vf/8kuCZWUuewvEy3AZ33BxeQMLG4N9FpMwaw4ryx61I1jJ3gPdJTcA3naRT7y9NJ1yi8HMVVoSejeW9Cm4vC88HC6Me2CGE5yRlOJkKb02lzAQkt6rSr3ajCuI9d46Tgmr68Rxi9euzdMBZWdZJ6Q7pHvozmvahHVq5cif379w/6YSyKIKxcudJrO9KUi4jMPusuCbUWd6l9C49Vdo7Yl+Uaxkw/JT0YuDjPiqINsffDuOGqbqwYq4M1RG7YsAF79uzBCy+80MfpvFGUG/NJ6vjlICBbzIl4N6km41Qy7vRhhAsBrp/6MHC5JdAPTljVSa6VxVjljOah5h5pzPLly60EV09IBi6AH6i8eiX7bDK7kIw7fagGQoBLRET5PehSpajqh8g7QpwpS+oRxT0arHrE6A9Nwig2uCblXaSk32vaB3DGnfiX5RrGQiIioHnkqXR+gNf3xm6ILMZR5YpGUMVN1SuceqRhI2tgQntgpIxXwjQ4pvr3zrnSwJoTf9+C90jN2c9Q4PpppMyL0QSVZ0Xk3eAE9YaULiAVX2zdR66WYUJ7YEgGLkBQj7C/b8F7JFDjTt+kabURsI981pJnRR/G0K6ZribKt0vXqIop8HCPTGgPDC7SThPRqFm2N/GjlmY/o6USXCMkIgK6ncVNBBrThtjVVBq3Rk2gWaX3SQ+JvUrP2/8pjS7hEhFpZnB8eHX22c5Mu3y7rwehb6Tk+tk+3Z3fSWqqAahHill0pVuj2hBZz/ukK0xoDww2EZEiYZTK+6SJ94ioS41/WS5RJCKqVo9kn92qRyTPCj8CqU0kQ6Q6ItJjYq8yTGgPDFY9opgps+HVLQTXSL6zQ/BakBC9GhQZ6NpqA6umivzlyZXOA4qxVv17UehbwiijDaSiuQAvdNnw6haKIMgGsOEbIjXZ47L9uvQe4dswBC+eov1UGRHZLLjG11g1oT0wNDNlbqBx3iNAc/XFdPZSdfz4dakSE2HS4OXaFNmzIn6hPRlrNScIXMV6wN+q0IT2wOBmyppyYeO0evZVHKNR7hGF72vsy3IJSZhMX67dtyE0fW2baFY0fKBZmMZaE9oDg5spawxcXHAN0HwGJgntISzLJaS0qEEE1wzAi0da0UhCV4re9WU0N6E9MNgq3w1zjwDN9Xgqi/7QhXY+g7bgmm4RZ8qCh4wUXGPqEaMVnOMHGSAbX6oGeXGMNrL8cV4LkcsKkWnQR/n24v53KQ80+trYX57iikaYIGgKdjjXf/53E9oDo2lwDZd9LjtGSwmjmNDi2HWpEmNp2a3Ie96UlEnBC/irNN4mUnCNVC6Mq1gPtJOquA4mtAcGn4hInsFx6pXiGI102uKStXsfZd9oCkEA3QfXsCuqAahHuJzlgKJyjWQw7sH2UIYJ7YHBJSIqxi870xZ02tKSUkKavbRR8T10tH7aXS67UyYIq2hD7H3ArTqBfCzXLL0H9GN7KMOE9sDgEhFpyoVJQpuEEk0SxUMipY8dclSkxkd64X5dkAoCzVel8TbhSu8BuapPyHhZ7FdGH0FQZZjQHhhsIiLFDE5Wj3RfjR3o1kfZN3GoR+KfaXOqQiBfTSiCa3wm9irDhPaAkBIRTYVB9THEZXPX6hFPesI+kf20+/EekdUj3Z2/D8Zp9YsRmKEae6V6pDiPzbSNmsiJiPL9RPVI9TmoYb5r0RDZg2rAN3IhiBP36wKV6iByqa0by9XbpYr1fST2KsOE9oCQDCfFQyqqR6TZSSP1iK6NsXsucIiRdj3o9bkcNcAwDJGiekTwkNGuiEynbdRGE7YLKLxHOlw264079c8ROmLKUMXLtY02dOklFAJS8jPZ5S/fT4pcNaFt1EU0nCgEYppWezUAssVdQi4om33GvjTnEKv3KGwPTUmZFL5Acy+hEJDsM/rgmvLtfUSulmFCe0BIutLia2lJyC8pqdEMcOruxqsG+g4N7hNZPXLifl21QfISir0PpBfTKA9DryLUCYYJ7QExSXAj6OCkYqZSwqgmg1RTjV1qY+xoqnxn+3Xp8serR3xVGm8Trkg1kL0ceT/tfD9hgmFC26iNNhGRFLrLPsxJs2WzVDFlWvE9boHBIVX51rxcm5JKKXgHUPZNss9IGSvFfjL1iNEUKRERKWZwcr6GZstmTTV2oP8HoU/EnOI9BG1wQViArDqIAWkCIhkipXqmfST2Kj1vr2czOkWKtBsplnNcjcni2E0GqajTXgKGSDki8sT9ukBTVi72PhgLExBpLKtVeaYeMeoiJiJSzOCk3CNNdZ2ScacP1YBvtNXYOw2ukVQHQimuGJCCaxIhYZS2nyyftlEbKRERKbwSNPkamoxRTTV2IH7PBY5JIQhRPdJlRKRQ7KKhl1AIyOoR/h4Xm7hq7ICpR4wGiOoRxXKu62Xz1N2t6vjd+yj7Ri4E0b3QHju+2EVTNVgISBMQadWozsZo6hGjLvqwW+4YfEBC04dZDgDKPmNfmnPo1SPdtSEVsjk29RIKAdGtUTBESjUm+0jsVYYJ7QGhDq6R1CNcQELSMLhGadyJPYSaQwqu6SPT4ZIIrhHcGqV6pE7oJwuuMRqjKZoL8F4JsnqkmYFKauOSEtpCTotu1SPV2euAAalHGqj6xAmGJYwymqLVlbKpWVOFV0GDMTrVu5dv78NzwjdjIRFRHwFGacqvqAYREZk6/sUkZKwsxrmURtiEtlEbSQenKZqbOsmroGFwjZTPYUlk+eONsX1kOuzaSygENHl0VME1QkRk37p/E9oDQtKVAnJq1bEU3txYPaIMLIldYjBIXj6axF5NEWehAwiukdwapVB9WT2Sn8dm2kZdpERE2TZePeKk4JqG+bS1bonDLoKQffpMru+EFZXkWREDGrdGyZMKCK9ghwntASEluAEUSXIUftpNBulYqMbuK7F8n4RQjV2zoopdaItujcJYloqK+IreNaE9ICTVAyAnyZGrsbfjpy0ZIq0au9/cI6MBGCI1enuNekQ2RDZoZA1MaA8ISRgU2zjDiXPy75vMwNJ8yWrV2JsFQTXFSdGCDdVgIaBxa3Su2rAu9VMfib1Kz9vr2YxOkXRwQL4kFIsgVJ9DUq9ISL6zS0I9oszy1+VMVy52kX3GbFtwQqCYNFMurl2sxm7qEaMuUtFcQBe626V6RAotXhqGSCHSrgdhoO2HmF+ecmHf6X6lv1fkLuF+3xUmtAeElNej2MYNMqfIPdJE3yyGFi8JP+3sUwqu6dZ7xPEGa0+zyDYZKwLFgOprlGIWLLjGaIykgwNkXaWsHmk2SLNIPE49krdjwFI7hGrsmnQFQNwGYdGtURC6acq7DPqaYJjQHhBjQQcHyG5OY0Gojhomx5d0qb70hH0SQjX2sVAEYaI6iLgfJLdGKV2ApCq0hFFGYzQz7RGTCEjKalZsaxpcwwqLpZAwSkr52YNev+ksNAY0RaoBxhCpCEDK9jOhbdQkFRIRAbwhUvJqyLY1VI84/qVCnow7fVIkIhJrD3ZqiJS9hIC4DcJyEYR8v4prLNxTq/A1wTChPSCKh1wM3WWs5YBipt5YPVK9fUmoR4qXY1X1HkVir6ZIRrohZFvUquKqXo6yeqR720Ppefs9ndElUtHcYlvVc+iEGSDQPCeFlNtkNAADmIRKjdVxcIuTck0PwIsnlSrXSIZIMQBpul+fmNAeEFLRXCCbhXMzi+z31edoGlwjeS1MvEcGPNOe5h7hl+6d5x7RBNdE3A+aauxA9QQhU49oPGxMaBs10SSMGjFCt48Z4DiVjw/EX+qKQ7Wi6Thhk1QLdAgGYTlQLPusdvkTYh4sYZTRFKeYwXEJo4oZBze74Gbq2jZK2eWAYVdj72NFI5EqDZEx67SlF5Nk9NakdCjO0ycmtAeExvuDmIRRk5m6YDFvpB4R83Wf2JYhIlVjL7Z1GlyjSBgFxG1bkNQj0mpCLL0neJ90hQntAaETBrzhRf59s2W7GLxDS0E9wmc6BJq7VkpIPsxDyLaoCRQDOD9tOQ9PcZ4+MaE9ICa60pp18aSsZsW21NUXqprcJkDcy3IJabUBdF85JnU6z4qYVzypEPUppUwYS/fIgmuMpkgVUYBCPdLMTxuor8cTgzoG4B8sMRYMXED3RQgyI1319kEE14irCYV6RKXTNqFt1ESqtAEIhsj8a/73xb71Bqo24CHiCZ6IZIwFui9CIM1Ch5BtUdLbizpt5e8tuMaojSZ3yIhJrTpVj1Sfo2mYuVgxZSn4aQszQKB5LU6JVOmnHfOKR1IBid4jYu6S4jw20zZqovMekYNrNMaX2jNtZUrQmIWFxFiIRgT4xF6ttEEw0g0nYVT1dqkeqfxis+AaoyE69QbVrom38Nh1x6kY1LFEgmu4ewD0ZIjs8OUcArL3x3S/8t93+yzUxYT2gCgGHwkGpqpZ7OT3HRYp0IYWDz24RpDZnQbXTAtA8+cH4l3xOOeQOtkTCuBXnrxRH+zvu8KE9oDQGCKThCapQU9GO1MH6s+E5WV50ZY4hYUGaQYIdJswSlOWLvaEUaqxLMQEyC6D1LntoQwT2gNiMlDZJV31INWGVy/cd/Y2yg8CdRxY4hspERHQPF0Ax8Q1VBPtF2k/TFV91ftIqzpJp50dv1s1VhkmtAfEVL1RvQ+nHpkIbUV4c12BkqXL5Pfp2kfZN9JqA2ieLoAjVWSDlEpxhY6q9J5UjV3RT9SxwbgME9oDQq0eqRikbqYlZc02KlQDXfso+0YycAHdzuBUs9DIDZGzGNWr1SPVhSoWHsPUI0ZttAO16jmcLpurz9HUf1ez5Ow674ZvpCrfAJ/Yqym6fN68O1zoaHTa0qpRiqgEui9WUYYJ7QGhyR2SJJoiCIqBXldoax6EoatHVIbI7l5cqaKfY6/GPlWPVO8j2Wc0/URkCaOMBmiW3VxyfVW5sobqEVUbPRh3+iR1utwj3alH8nMoEnfF2g/a0nvZvuXbpYjK4hh9xxSY0B4QUtJ2QCjsq5ppT89Vq42efZRDQK8e6ch7ZAYvoVj7QTWWBVWfFFFZHN8MkUZttDq4SvXIDLrOLnXaXBuHgFQGC+jHEDnkauw6t0Y5uEazcrWEUUZtNEEbCZMwyimWzU2Da9RtjFNWqFC9uJh+auP8xTmq8FVKqy1UnlDCWNZNMPpPuWBCe0CMU1kHx3lmzBRc01HCqEkbY5UWCjTCoNPgmhnUYLHqtGcLFCvfrvN06t9obkJ7QEh5PYCi9qCgHumwsoyUqEhq4xBQq0e6Dq5R5YqOsx80gWKSh4xaPWIzbaMuKtUD41fqFMvmpkUKUufYwsHAUlCP6F5cFlxTH416pJiAVKk3NNkYM++Rem2siwntAaFWPVTOLIp96lvcW2ljhz7KIaBZEWXh0d2cf6bgmkj7QRcoJvtpy94j5qdtNEA1g2P8f1PNQG84A1PNXjr0UQ6BVFUEoTsDl1MI7Umu6GgjIjUBRLyxVdNPPmIKTGgPCI1fKef/q4mUazoD0/ppx6pL1aBbEXXppz09RxW+ckW3hWYsF5uqbAdpykcXF8c3oW3URlXGijFwzVKNva5vqj5hVJzCQkOayomIuMReTZmWlaveZ1qKK85+UI1lIfeIVLEe8JNyQRTaRDRHRI/20RijGVKuaoBPcFN836UrmPPsoxwCqiIITGKvNs4PNFMdhM4s6WfrVmMH/GSktJn2gNBERHL+v7OUoao7A9OoBrr0UQ6Bscb/l0ns1RSN0I5ePeLksUzCWNYUqwi5cs0yIvpTItpBRJ8lolWdtsqoxViRjInL/ztLNfYmwTU+fZRDQPNy7TL/iqqfB5J7RDWWGxRB8JFyYZlyvzcC+Ihz7h4iug3ArwH43TYbcujoPLZ+9uE2D9k7q05Zho/94sU47TXLS7c75/Dv79qBvQdf6eT8D/zgAE5dMWL3GSWE46nDr37m/kXb9ryUtUtjiPxPX/se/vt9P5i5jUeOjVW5Rx7ac7C0jX2w6pRl+NgvXIzTVlX342//1Q48e6BeP+7a9yNsmVvB7jNKCM8dOlp5Dy48ew3+xXsurPz9cweP4ne+uAOvHl+sZ3rpyDEAutwj277zNO79/n62rXX5Oxeswz95x6bK7Tv2HsLv372z1ovjwJF5ALoAom3feRr37Xpx0fbDrx5XBdc8+sx0rM6tOxVbf+6imds7C1qh/bRz7p78788A+A0sENpEdD2A6wFg48aNtRqSpg5PvnC41m9D4MixMfa89Are9+Pn4J2b15Xus/9Hx3DbPbtw1poVOKNCIDThta9ZhqsuOpvd5+3nnYmLXrem8l5f8Ya1OGtNtUA5f92puGzj6Th0dB6Hjs7P3MYL1q/G5W9Yy+7z0286G3c9/KyX8fDK/BhPv/gKrr70x/CuC88q3efAkXn80bfq9+PrTluJd7+x/NgF79p8FnbsPVR6D/YdPoYvPfYcK7T/+vv78BcPPou5tatwyrLFC+q3nns6Nq9fXfn7NSuX46feeBaeOfBKJ/2w98BRPP7cy6zQ/vJjz+GvHt6LzetXi1kRy3jruafjwrPXVG5fvXIZe43nr9OM1fX4wkPTsbpcsly2gXOO/QdgDsDuBf+/CsDnq/Z/29ve5pYi25/a7zZtvct944nnK/f54cFX3Katd7k/+eunemyZMQv3737Rbdp6l/v64z+s3OeFl4+6TVvvcrd/e1d/DVvArV95wm3aepdL07Rynzu3P+02bb3L7d73ox5bpuejd/yt+7sf/zq7z+99+XG3aetdPbXIPwC2O0EeO+fUOu2NRHR5/vcvA/hWy++O6NH4L2uSzxt+keoGAjpDXpdoPDs0gVI+0bh1agpmLEW0XfoEgF8noh0AzgDwye6aFCcar4pp+HAvTTJqIGV+A3TuZF2iSSWgCS7xicbQqgkjX4qIOm3n3FMAutWsDwBN0vjQHyRjQWUexcu3D/VlGZpUAqGv6kaK7HgaL5ulSKCLp/iYhMRqlqw2EINFU+TB98tXCgoBpi+WUIeaJihFE9yyFDGh3RIjxexH4ztq+EVT5MH3y1eT07x4sUh+xr7QBKVoinosRUxot4Rm9jMJEzehHSyaMlu+VQ/JDIbIUCcImnzhmhS2SxET2i1BmtmPGSKDp+gb1qCc+lU9zNbGMAebJouhJpfOUsSEdkvMpB4J9EEylAZlz7NYTSoB322U0FQn0oSRL0VMaLeEJmn81HfWBmKo6Pzt/b58Z4oJCFTojRTViTRFPZYiJrRbQpMVzbd/ryGjcafzrXpIFBME3yocCZV6RFEwYyliQrslNEnjNQVVDb9oijwUwtKfeiT75CYILnT1iMIQqSnqsRQx8dESmtBiTUFVwy+aIg++X76q6NvixRLoWBspdNpmiCzHhHZL6NQjJrRDR6MvngauhKvTDj64huQq5hYRWY4J7ZbQJI337d9ryIw0rpuevYA0Hi4u93EO1uVPoU7UFPVYipjQbgnV7Cdw45ChDVzJPkMOrtGUdfOJLhjNDJFlmNBuiWQW/96AH6alTlTBNYJ6JGR9cKLxNQ/8xeMLE9otMU00VL1P6AEPhi5Iynl++Wpmqc6FPTkohLH0vNizshgT2i0xyXEcsH+vIaNJGDXxAvIkUDQpE8aB+zhrcoKPU3tWyjCh3RKqzGs20w4enTtdIJVrhOCakNUj2lB8i2lYjN2SltDlYc73tdlDsGj87Z1nQ+RI4UvuAlctTNQjQtoHe1YWY0K7JTRlqkL3nTW0y3a/2RpJqcIJ2YinVSeaemQxJrRbQjMIQw8tNjKBSKQLXPFeuUaICQhZaGuzKdqzshgT2i1RPOycemRsCaOiIAuxDvflq6rGHrohUqlONPXIYkxot8hIyFzmuyCsoSPLQFe93ffLl5QqnJBnqVovHZPZizHx0SJJwleYdp6X1YaORMj17Pvlqy1tF/I406YLCPnF4wsT2i2SEB8s4NtVzNAxImL1xb5fvpoAoCxDXl8tmp1EGYxmQnsxAXdrfIjqEavGHgUJ8Ssm3y9fbXBNyPpglZeOs+CaMkxot0iS8EK7kAMhBz0YeYL+gF+++pl2uONMFVyTOozCvQRvmNBukYSI9x6xauxRMEr4BP2+X77aeqQhq+GmuUfM5W9WTGi3yEgwRFqWvzhISJl7xFtwzYntKCN0dzlVMJoF15RiQrtFEpJ9ZwHT04WOtGLy/fLVpEwI3V1OF4of9ovHFya0WyQRvA5860INHVKlcN8vX80sNXR3OZUxNXAPGF/YLWmRkWCInFQ8sdlD0GT9WL3d98tXU409dH2wytfciiCUYkK7RRKhwnQxQMnuetAkiWQgyz59vXw1RrzQ3eVUofiBv3h8YeKjRcRIOs8FYQ0dkp+275evKnd74O5yqlD8wD1gfGFCu0Wk4BrfBWENHeogqYCrsYc+S1X5mqcWPVyGCe0WSYTscJMZmo3DoEkSEsKrs0/f1dillAlBq0dU6WWtck0ZdktaJEl4oe17hmboSEhXNs53NXbREBnwOFMVcjBDZCkmtFtEVo+Yy18MaHOP+K7GLqniQh5nmjqXoYfi+8KEdouQBdcMglGiDK7xrh6RSnX11aLZ0QTXpBZcU4oJ7RYZCYmGQp/9GBnxBNcnIeogAAANbElEQVTEW9hXrx7pq0XxYEK7RSRDZObC1GODjFokQsIo3y/faWBK9T6hu8sV1yCtaEw9shgT2i2SVa6p3m4RXnGQKAr7+pQlpFAtjAN3l9OG4od8Db4wod0iI9K4MNkgDB3RoOxZmGgMkS5wd7kip4gUXGPPy2IC7tb4ENUjgc9+jAzJddP3y1cTAh66u5wmU2HodS59YUK7RaTKNanptKMgId4VzffLtzi1qMIJeLBpqrGnZogsxYR2i4wUEZG23AsfTTELn92oU4+E7S6n8YAx9Ug5JrRbJEsYVb099CWrkaFJRxCGeiRed7mpeqR8u3MOztQjpZjQbhHRv9dZUd8Y0BSz8Kse0eXtCHmsSdXYi69NaC/GhHaLiDO0wGc/RoZKPeK5I8U2Br6qk3Ta00ITvTUpGuyWtMhIShgVeBIfIyObaVdvD6Fo7kgouBH6WJO8R4rnyPfLMURMaLdIph6p3h7CDM2QCT24Bsjz3ESsipOCayZCO+AXjy9MaLdIIj1IgS9ZjQyx1mfq/+WramPAQy0R6lz6zqQYMia0W0RWj1jCqBgIPbgGUKpHAh5rUu6RiSEy4GvwhQntFkkC9+81dEgFmscBuKKRoMIJfVUn+WkXK1Z7XhZjQrtFEhLKVAX+IBkZI0kgBvDylVZ1oYeAFzPoqpej75zlIWNCu0VGijJVNgjDR5NP27dAlGMCAk8YVYTiV1xDsWK1giGLCbhb40N6kMapDcIYSIRiFuPU/8tXU4/U94uFY1JRvkqnnXuVmCFyMSa0WyRRlKkKefZjZEhGvhBUDyPJlzxw99Li/lW9eKbqkd6aFA12S1pkJBSEDb1CtpGRJHKl88Tzk5OQ1MawZ6kToV2lHrF6qpWY0G6RJOErcWTFVm0Qho4m94hvgahR4QQ80Z6qR4TgGt/3OURMaLdI5j1ihsjYkT0z/KseuDZO3OUCHmsTQ6Tgp23Py2JMaLeInMTHZg4xoPHM8K3TTqi6HmkMs1QiYn3Np+qRPlsVBya0W0T0HnHOBmEEiME1IahHmJQJxcQh5Jk2wNfiND/takxot4gmuMYGYfiMEim4Bt4Nkbx6JPv0vRqQyNwWy7fFsFrwhQntFhklFlwzBGIPronFXY7LpmjeI9UE3q1xIVZjdzYIYyDzt6/eHsLLl1PhTNQjgY+1EeOl48wQWYkJ7RaRotSccxjZGAweyQc6hJdvwqhwXCzqESauoZhpm8xejAntFkmE3COhhxYbGZyBDMhtE74TRjFtnM60+2zR7HC+5rEYU31gQrtFxBzHASTPN2SKPuJKYfletnOruml9xbDH2ogxRDozRFZiQrtFJukmGT2dDcLwkXI9hxDZytlPXCSzVE4NNY5ExeMDE9otIlaYDiBnhSEjZqALIIeMTj0StsDj0gVMdNr2vCzCbkmLFA87F14c+oNkTIVdlS0yDaBsXGaILN8WS31Fztfc1CPVmNBukWnmsvLtIehCDZmii7hSWL5lCTdLLeRg+OoRqkwYZYbIakxot8jkYefUI76fdkNEUo+EUDSXy3MTi7sc57Y4vYbAL8IDJrRbRFaP2CCMgYl6hFsxBWGILN8WS96OEWtMzfcJ/Bp8YEK7RWiiHqk2YNkYDB9pxZQGUDaOSxhVCELfbZTgQvFjWS34wIR2i4wEXWgItQUNmWmCfq4f+2zRYkYJJ/DyfUIX2pyveSQeMD4wod0iU/VI+fYsO5wNwtCJIriGUS3EkjCKq3PpIlHx+CDwbo2LiXqEeZhsDIaP5G+furCDa2LJkEcWXFMLE9otIhkiQ0ieb8iMSF4x+e5HLgQ8llzUo6S6PF8sqwUf2C1pkeIh4fIcm3okfApZx0Xr+e5GYg2R2WfoqgVNTvDQVws+MKHdItOHvXy7RUTGgWSITANI/KXx0w59qCVJdZ3LWKI6fWBCu0VEP+0Awp8NGbkf/au5eB/nOIx4I+KMvfk+gV+DD0xot4gmks5m2uEjGZTHAai5iPG8iGWWyqpHIlkt+MCEdouIwTUB6EINmaltonx7CJGtXD3ScST64ITzNY9kteADE9otInsd+PfvNWQKjwVWPRJAcE3sIeAjqq7FGYsHjA9MaLcIlx3OOYc0gNqChgwJXkAhqLlI4acduMxGknCpAuJYLfjAhHaLJIwBa2JYsUEYPCNGp+2cg3MBqEc0RRACl9qa3COhrxZ8YEK7RbiH3YIF4oFLRxCKV8MQ6ivywTX5PoFfgw9MhLRIURqpbPYQS2ixMfVY4PrR9wSQC66JJQQ8oWpf80lwjUmoRdgtaZGEMUTGkuPYmPZR2SwwDUT1wPlpx1JfMWHcFs0QWU3g3RoXXFCGLffigavGPhHavhNGMRGRsQTXJMTl6Sn2CfsafGBCu0W4hz2W0GKDz/IXSuAKN0uNJRc1lxN8uqLps0VxYLekRRLB6wAIf/ZjLFSPLN5WyBjv6hGmvuKkjYELba4IQhrIyzFEVEKbiP6CiO4noseI6PquGxUrxXNcNgOyQqXxwPnbp4EYIlkjXiBtlODqXMayWvDBMuV+1znnXiSi1wD4DhF9zjm3v8uGxUgxQ9v6uYex6pTRCdumxiEbhKFT9NENn3sYp6448REJxX84yaMJ33PrNxdtO3R0HoD/NkqMCNjz0pHSa9j/o2MA7HkpQyu0f4OI3pf/fS6AzQAmQjuffV8PABs3bmy1gTHxpte/Fv9wywYcfvV46fZLNpyGKzef1XOrjFl50+tei3+05Vy8/Op86fZLNpyGKy/0248/++bX4ckXDleqF9aeugIbzljVc6tm4/1bzsWxigQvmwFsXr+m3wZFAlU5t092IHo3gN8G8DPOuSNE9A0ANznnvlG2/5YtW9z27dtbbqZhGMawIaL7nXNbpP00Ou3TALyUC+yLALyjcesMwzCMWmiE9pcALCOiHQB+B8C93TbJMAzDqELUaTvnXgXw8z20xTAMwxAwP23DMIyIMKFtGIYRESa0DcMwIsKEtmEYRkSY0DYMw4gIMbhm5gMSvQBgd4NDrAOwr6Xm+GYo1zKU6wDsWkLFrgXY5JwTQ21bF9pNIaLtmqigGBjKtQzlOgC7llCxa9Fj6hHDMIyIMKFtGIYRESEK7U/7bkCLDOVahnIdgF1LqNi1KAlOp20YhmFUE+JM2zAMw6ggGKFNRD9HRE8Q0U4iusF3e2aFiJ4iokeI6EEi2p5/dyYRfZWIvpd/nuG7nWUQ0W1E9DwRPbrgu9K2U8Z/zvvpYSK6zF/LF1NxLTcR0TN53zxIRO9dsO1f59fyBBH9rJ9Wl0NE5xLR3UT03bzU30fz76PqG+Y6ousXIlpJRH9DRA/l13Jz/v15RHRf3uY/I6JT8u9X5P/fmW+fa9wI55z3fwBGAJ4EcD6AUwA8BOBi3+2a8RqeArDupO/+A4Ab8r9vAPBx3+2saPu7AFwG4FGp7QDeC+CLAAhZbvX7fLdfcS03AfjNkn0vzsfaCgDn5WNw5PsaFrTv9QAuy/9eA+D/5W2Oqm+Y64iuX/J7uzr/ezmA+/J7/T8AXJt//ykAv5r//WsAPpX/fS2AP2vahlBm2m8HsNM5933n3DEA2wBc7blNbXA1gNvzv28H8Pc9tqUS59z/AfDiSV9Xtf1qAP/NZdwL4HQien0/LZWpuJYqrgawzTn3qnNuF4CdyMZiEDjn9jrn/jb/+2UAOwCcg8j6hrmOKoLtl/zeHs7/uzz/5wBcBeCz+fcn90nRV58F8PeImlUrDkVonwPg6QX/3wO+U0PEAfhKXrW+qFh/tnNub/73cwDO9tO0WlS1Pda++me5yuC2BWqqaK4lX1b/OLKZXbR9c9J1ABH2CxGNiOhBAM8D+CqylcAB51xRHHZheyfXkm8/CGBtk/OHIrSHwDudc5chKxjx60T0roUbXbY+itJVJ+a253wSwBsAXApgL4Df89uc2SCi1QA+B+CfO+cOLdwWU9+UXEeU/eKcGzvnLgWwAdkK4KI+zx+K0H4GWZX3gg35d9HgnHsm/3wewOeRdeYPi+Vp/vm8vxbOTFXbo+sr59wP8wctBfCHmC61g78WIlqOTND9qXPuz/Ovo+ubsuuIuV8AwDl3AMDdAC5HpooqKoEtbO/kWvLtpwHY3+S8oQjt7wDYnFtgT0GmsP+C5zapIaJTiWhN8TeAnwHwKLJr+JV8t18B8Jd+WliLqrZ/AcCHck+FdwA4uGCpHiQn6XXfh6xvgOxars0t/OcB2Azgb/puXxW57vOPAOxwzt26YFNUfVN1HTH2CxGdRUSn53+/BsB7kOno7wZwTb7byX1S9NU1AL6er47q49sau8Aq+15kVuUnAdzouz0ztv18ZNbuhwA8VrQfme7qfwP4HoCvATjTd1sr2n8HsuXpPDJ93Eeq2o7Mev5f8n56BMAW3+1XXMuf5G19OH+IXr9g/xvza3kCwM/7bv9J1/JOZKqPhwE8mP97b2x9w1xHdP0C4C0AHsjb/CiAj+Xfn4/sxbITwJ0AVuTfr8z/vzPffn7TNlhEpGEYRkSEoh4xDMMwFJjQNgzDiAgT2oZhGBFhQtswDCMiTGgbhmFEhAltwzCMiDChbRiGEREmtA3DMCLi/wNmDKv1GMdvuQAAAABJRU5ErkJggg\u003d\u003d\n"
          },
          "metadata": {
            "needs_background": "light"
          },
          "output_type": "display_data"
        }
      ],
      "source": "# initialize sax parameters\nwindow \u003d 49\npaa \u003d 8\nalpha \u003d 3\nsensor \u003d \u0027L_T7\u0027\n\n# perform discretization for training set 1\nsax1 \u003d sax_via_window(np.array(df1[sensor]), window, paa, alpha, \"none\", 0.01)\n\n\n# create visualization of discrete values\nsymbol_to_number \u003d {\u0027a\u0027:1, \u0027b\u0027:2,\u0027c\u0027:3}\ndiscrete \u003d []\n\nfor i in range(0,len(df1[sensor]),paa):\n    for gram in list(sax1.keys()):\n        if i in sax1[gram]:\n            for k in range(0,paa):\n                discrete.append(symbol_to_number[gram[0]])\n            break\n   \nplt.plot(np.array(discrete)[0:300])\nplt.yticks(np.array([x for x in range(1,alpha+1)]),(\u0027a\u0027,\u0027b\u0027,\u0027c\u0027))\nplt.savefig(sensor)\nplt.legend([sensor])\nplt.show()",
      "metadata": {
        "pycharm": {
          "metadata": false,
          "name": "#%%\n",
          "is_executing": false
        }
      }
    },
    {
      "cell_type": "markdown",
      "source": "## Compute N-gram probabilities for training set 1 and training set 2",
      "metadata": {
        "pycharm": {
          "metadata": false
        }
      }
    },
    {
      "cell_type": "code",
      "execution_count": 34,
      "outputs": [],
      "source": "# store all ngrams found in training set 1\nn_grams \u003d list(sax1.keys())\nsax2 \u003d sax_via_window(np.array(df2[sensor]),window,paa,alpha,\"none\",0.01)\nn_grams2 \u003d list(sax2.keys())",
      "metadata": {
        "pycharm": {
          "metadata": false,
          "name": "#%%\n",
          "is_executing": false
        }
      }
    },
    {
      "cell_type": "markdown",
      "source": "## Anomaly detection",
      "metadata": {
        "pycharm": {
          "metadata": false
        }
      }
    },
    {
      "cell_type": "code",
      "execution_count": 39,
      "outputs": [
        {
          "name": "stdout",
          "text": [
            "429\n23\n406\n"
          ],
          "output_type": "stream"
        }
      ],
      "source": "detected_indices \u003d []\npossible_anomalies \u003d set()\n\nfor ngram in n_grams2:\n    if ngram not in n_grams:\n        detected_indices.append(sax2[ngram])\n     \nTP \u003d 0\nFP \u003d 0\n\nfor index_list in detected_indices:\n    for i in index_list:\n        possible_anomalies.add(i)\n            \n\nfor i in list(possible_anomalies):\n    if i in attack_timestamps:\n        TP +\u003d1         \n    else:\n        FP +\u003d 1\n    \nprint(len(possible_anomalies))   \nprint(TP)\nprint(FP)",
      "metadata": {
        "pycharm": {
          "metadata": false,
          "name": "#%%\n",
          "is_executing": false
        }
      }
    },
    {
      "cell_type": "code",
      "execution_count": 27,
      "metadata": {
        "collapsed": true,
        "pycharm": {
          "is_executing": false
        }
      },
      "outputs": [],
      "source": ""
    }
  ],
  "metadata": {
    "language_info": {
      "codemirror_mode": {
        "name": "ipython",
        "version": 2
      },
      "file_extension": ".py",
      "mimetype": "text/x-python",
      "name": "python",
      "nbconvert_exporter": "python",
      "pygments_lexer": "ipython2",
      "version": "2.7.6"
    },
    "kernelspec": {
      "name": "python3",
      "language": "python",
      "display_name": "Python 3"
    },
    "stem_cell": {
      "cell_type": "raw",
      "source": "",
      "metadata": {
        "pycharm": {
          "metadata": false
        }
      }
    }
  },
  "nbformat": 4,
  "nbformat_minor": 0
}