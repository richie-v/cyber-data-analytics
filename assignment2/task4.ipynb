{
  "cells": [
    {
      "cell_type": "markdown",
      "source": "## Import and input",
      "metadata": {
        "pycharm": {
          "metadata": false
        }
      }
    },
    {
      "cell_type": "code",
      "execution_count": 15,
      "outputs": [],
      "source": "import pandas as pd\nfrom sklearn.decomposition import PCA\nfrom sklearn.preprocessing import Normalizer\nimport numpy as np\nfrom matplotlib import pyplot as plt\n\ndf1 \u003d pd.read_csv(\u0027./datasets/BATADAL_dataset03.csv\u0027)\ndf2 \u003d pd.read_csv(\u0027./datasets/BATADAL_dataset04.csv\u0027)\ndf2.columns \u003d df2.columns.str.replace(\u0027 \u0027, \u0027\u0027)\n# all timestamps for attacks\nattack_timestamps \u003d list(df2.loc[df2[\u0027ATT_FLAG\u0027]\u003d\u003d1].index)\n\n# remove attack flag + datetime\ndf1 \u003d df1.loc[:,df1.columns!\u003d\u0027ATT_FLAG\u0027]\nseries \u003d df1.loc[:,df1.columns!\u003d\u0027DATETIME\u0027]\ndf2 \u003d df2.loc[:,df2.columns!\u003d\u0027ATT_FLAG\u0027]\nseries2 \u003d df2.loc[:,df2.columns!\u003d\u0027DATETIME\u0027]",
      "metadata": {
        "pycharm": {
          "metadata": false,
          "name": "#%%\n",
          "is_executing": false
        }
      }
    },
    {
      "cell_type": "markdown",
      "source": "# Function for pca anomaly detection\n",
      "metadata": {
        "pycharm": {
          "metadata": false,
          "name": "#%% md\n"
        }
      }
    },
    {
      "cell_type": "code",
      "execution_count": 16,
      "outputs": [],
      "source": "def pca_residuals(series,series2):\n    # PCA requires normalized data\n    normalizer \u003d Normalizer()\n    normalized_series \u003dpd.DataFrame(normalizer.fit_transform(series))\n\n    normalizer2 \u003d Normalizer()\n    normalized_series2 \u003d pd.DataFrame(normalizer2.fit_transform(series2))\n\n    # use PCA and find the importance of each principal component\n    pca \u003d PCA()\n    pca.fit(normalized_series)\n    print(pca.explained_variance_ratio_)\n    \n    # use most significant components to capture data behavior\n    pca2 \u003d PCA(n_components\u003d7)\n    pca2.fit(normalized_series)\n    \n    # project both the normal and anomalous data in the 7D Principal Component space\n    projection \u003d pca2.transform(normalized_series)\n    projection2 \u003d pca2.transform(normalized_series2)\n    \n    # use the 7 principal components to project the data back to the original space\n    components \u003d pca2.components_\n    recreation \u003d np.matmul(projection,components)\n    recreation2 \u003d  np.matmul(projection2,components)\n    \n    # calculate the residual per signal \n    residuals \u003d np.subtract(np.array(normalized_series),recreation)\n    residuals2 \u003d np.subtract(np.array(normalized_series2),recreation2)\n    \n    # combine the residuals of all signals for each point in time\n    residual \u003d np.sum(np.square(residuals),axis\u003d1)\n    residual2 \u003d np.sum(np.square(residuals2),axis\u003d1)\n    \n    return residual, residual2\n",
      "metadata": {
        "pycharm": {
          "metadata": false,
          "name": "#%%\n",
          "is_executing": false
        }
      }
    },
    {
      "cell_type": "markdown",
      "source": "# Perform PCA analysis",
      "metadata": {
        "pycharm": {
          "metadata": false,
          "name": "#%% md\n"
        }
      }
    },
    {
      "cell_type": "code",
      "execution_count": 20,
      "outputs": [
        {
          "name": "stdout",
          "text": [
            "[4.28863462e-01 2.87477511e-01 9.63679745e-02 7.96212084e-02\n 6.50087149e-02 3.54596191e-02 2.69541784e-03 1.23769430e-03\n 1.11080294e-03 7.53193281e-04 4.68901833e-04 2.21064511e-04\n 1.68447095e-04 1.49070256e-04 1.01652721e-04 8.06353915e-05\n 5.01064951e-05 3.74327705e-05 3.61903514e-05 3.36276395e-05\n 2.97222321e-05 2.14115469e-05 3.09021143e-06 2.66227377e-06\n 1.70766358e-07 1.05264995e-07 4.63193274e-08 2.60536800e-08\n 1.36960710e-08 1.23302614e-08 1.15851628e-08 3.97080641e-10\n 7.44504154e-11 8.02464438e-12 1.34848883e-12 1.05819241e-12\n 3.01733015e-16 2.66697555e-33 2.66697555e-33 2.66697555e-33\n 2.66697555e-33 2.66697555e-33 2.66697555e-33]\n"
          ],
          "output_type": "stream"
        },
        {
          "data": {
            "text/plain": "\u003cFigure size 432x288 with 1 Axes\u003e",
            "image/png": "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\u003d\n"
          },
          "metadata": {
            "needs_background": "light"
          },
          "output_type": "display_data"
        }
      ],
      "source": "residual, residual2 \u003d pca_residuals(series,series2)\n\n# plot the residuals for both datasets and compare them\nplt.plot(residual,\u0027b\u0027)\nplt.plot(residual2,\u0027r\u0027)\nplt.legend([\u0027training1\u0027,\u0027training2\u0027])\nplt.savefig(\u0027pca_analysis\u0027)\nplt.show()\n",
      "metadata": {
        "pycharm": {
          "metadata": false,
          "name": "#%%\n",
          "is_executing": false
        }
      }
    },
    {
      "cell_type": "markdown",
      "source": "## Evaluate PCA results",
      "metadata": {
        "pycharm": {
          "metadata": false
        }
      }
    },
    {
      "cell_type": "code",
      "execution_count": 28,
      "outputs": [
        {
          "name": "stdout",
          "text": [
            "(array([  73, 2384, 2387, 2388, 2389, 2846, 2868, 2870, 2893, 3504, 3505,\n       3509, 3510, 3552, 3754, 3771, 3772, 4017]),)\n219\n12\n10\n"
          ],
          "output_type": "stream"
        }
      ],
      "source": "# set the conditions for anomalous behavior\nthreshold1 \u003d np.max(residual)\nthreshold2 \u003d np.min(residual)\ndetected_indices \u003d np.where((residual2\u003ethreshold1))\nprint(detected_indices)\ndetected_rows \u003d detected_indices[0]\nunique_rows \u003d set(detected_rows)\n        \ndetected_indices \u003d np.where((residual2\u003cthreshold2))\ndetected_rows \u003d detected_indices[0]\nfor time_point in detected_rows:\n    unique_rows.add(time_point)\nunique_rows \u003d list(unique_rows)\nunique_rows.sort()\n\n# compute conservative True Positives and False Positives\nTP \u003d 0\nFP \u003d 0\nfor j in unique_rows:\n    if j in attack_timestamps:\n        TP +\u003d1\n    else:\n        FP +\u003d1                \n    \nprint(len(attack_timestamps))    \nprint(TP)\nprint(FP)",
      "metadata": {
        "pycharm": {
          "metadata": false,
          "name": "#%%\n",
          "is_executing": false
        }
      }
    },
    {
      "cell_type": "code",
      "execution_count": null,
      "outputs": [],
      "source": "",
      "metadata": {
        "pycharm": {
          "metadata": false,
          "name": "#%%"
        }
      }
    }
  ],
  "metadata": {
    "language_info": {
      "codemirror_mode": {
        "name": "ipython",
        "version": 2
      },
      "file_extension": ".py",
      "mimetype": "text/x-python",
      "name": "python",
      "nbconvert_exporter": "python",
      "pygments_lexer": "ipython2",
      "version": "2.7.6"
    },
    "kernelspec": {
      "name": "python3",
      "language": "python",
      "display_name": "Python 3"
    },
    "stem_cell": {
      "cell_type": "raw",
      "source": "",
      "metadata": {
        "pycharm": {
          "metadata": false
        }
      }
    }
  },
  "nbformat": 4,
  "nbformat_minor": 0
}