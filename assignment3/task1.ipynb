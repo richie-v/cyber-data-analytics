{
  "cells": [
    {
      "cell_type": "markdown",
      "source": "# Task 1: Sampling\n## Import functions",
      "metadata": {
        "pycharm": {
          "metadata": false,
          "name": "#%% md\n"
        }
      }
    },
    {
      "cell_type": "code",
      "execution_count": 2,
      "outputs": [],
      "source": "import numpy as np\nimport pandas as pd",
      "metadata": {
        "pycharm": {
          "metadata": false,
          "name": "#%%\n",
          "is_executing": false
        }
      }
    },
    {
      "cell_type": "markdown",
      "source": "## Reservoir function",
      "metadata": {
        "pycharm": {
          "metadata": false,
          "name": "#%% md\n"
        }
      }
    },
    {
      "cell_type": "code",
      "execution_count": 3,
      "outputs": [],
      "source": "# save_smallest updates the reservoir, only stores the smallest tags\ndef save_smallest(reservoir, tags, current_ip, current_tag, k):\n    reservoir \u003d np.append(reservoir, current_ip)\n    tags \u003d np.append(tags, current_tag)\n        \n    index \u003d np.argsort(tags)[:k]\n    return (reservoir[index], tags[index])",
      "metadata": {
        "pycharm": {
          "metadata": false,
          "name": "#%%\n",
          "is_executing": false
        }
      }
    },
    {
      "cell_type": "markdown",
      "source": "## Sampling",
      "metadata": {
        "pycharm": {
          "metadata": false,
          "name": "#%% md\n"
        }
      }
    },
    {
      "cell_type": "code",
      "execution_count": 4,
      "outputs": [],
      "source": "df \u003d \u0027data/capture20110811_43_.pcap.netflow.labeled\u0027\ninfected_ip \u003d \u0027147.32.84.165\u0027\nn \u003d 10\namount_samples \u003d [100,1000,5000]",
      "metadata": {
        "pycharm": {
          "metadata": false,
          "name": "#%% \n",
          "is_executing": false
        }
      }
    },
    {
      "cell_type": "markdown",
      "source": "### Read the data",
      "metadata": {
        "pycharm": {
          "metadata": false,
          "name": "#%% md\n"
        }
      }
    },
    {
      "cell_type": "code",
      "execution_count": 5,
      "outputs": [],
      "source": "with open(df, \"r\") as ins:\n    lines \u003d ins.readlines()",
      "metadata": {
        "pycharm": {
          "metadata": false,
          "name": "#%%\n",
          "is_executing": false
        }
      }
    },
    {
      "cell_type": "markdown",
      "source": "### Compute estimates",
      "metadata": {
        "pycharm": {
          "metadata": false,
          "name": "#%% md\n",
          "is_executing": false
        }
      }
    },
    {
      "cell_type": "code",
      "execution_count": 6,
      "outputs": [],
      "source": "import time\n\n# run 5 iterations to average the run-time\niterations \u003d 5\nrun_times \u003d np.zeros([iterations,len(amount_samples)])\n\nfor it in range(iterations):\n    estimates \u003d []\n    for k_i, k in enumerate(amount_samples):\n        reservoir \u003d np.array([])\n        tags \u003d np.array([])\n\n        start \u003d time.time()\n        for line in lines:\n            parts \u003d line.split()\n            ip_port_src \u003d parts[4].split(\u0027:\u0027)\n            ip_src \u003d ip_port_src[0]\n            \n            # if this is from our infected host\n            if ip_src \u003d\u003d infected_ip:\n                ip_port_dst \u003d parts[6].split(\u0027:\u0027)\n                ip_dst \u003d ip_port_dst[0]\n                \n                # generate tag\n                r \u003d np.random.rand()\n                # obtain new reservoir\n                (reservoir, tags) \u003d save_smallest(reservoir, tags, ip_dst, r, k)\n\n        stop \u003d time.time()\n        run_times[it][k_i] \u003d stop - start\n\n        # only use the top 10 most frequent\n        ips_estimated, counts \u003d np.unique(reservoir, return_counts\u003dTrue)\n        ind \u003d np.argsort(-counts)[:n]\n        estimates.append({\n            \u0027ips\u0027: ips_estimated[ind],\n            \u0027freqs\u0027: counts[ind] / k\n        })",
      "metadata": {
        "pycharm": {
          "metadata": false,
          "name": "#%%\n",
          "is_executing": false
        }
      }
    },
    {
      "cell_type": "markdown",
      "source": "### Count traffic from botnet ip",
      "metadata": {
        "pycharm": {
          "metadata": false,
          "name": "#%% md\n"
        }
      }
    },
    {
      "cell_type": "code",
      "execution_count": 7,
      "outputs": [],
      "source": "ips \u003d {}\ninfected_flow_count \u003d 0\nfor line in lines:\n    parts \u003d line.split()\n    ip_port_src \u003d parts[4].split(\u0027:\u0027)\n    ip_src \u003d ip_port_src[0]\n\n    # if this is from the infected host\n    if ip_src \u003d\u003d infected_ip:\n        ip_port_dst \u003d parts[6].split(\u0027:\u0027)\n        ip_dst \u003d ip_port_dst[0]\n        \n        # if the map entry doesn\u0027t exist yet\n        if not ip_dst in ips:\n            ips[ip_dst] \u003d 0\n            \n        # add a count to the destination ip\n        ips[ip_dst] +\u003d 1\n        infected_flow_count +\u003d 1  ",
      "metadata": {
        "pycharm": {
          "metadata": false,
          "name": "#%%\n",
          "is_executing": false
        }
      }
    },
    {
      "cell_type": "code",
      "source": "ips_ip \u003d np.array(list(ips.keys()))\nips_count \u003d np.array(list(ips.values()))\n\nind \u003d np.argsort(-ips_count)[:n]\ntrue \u003d {}\ntrue[\u0027ips\u0027] \u003d ips_ip[ind]\ntrue[\u0027freqs\u0027] \u003d ips_count[ind] / infected_flow_count",
      "metadata": {
        "pycharm": {
          "metadata": false,
          "name": "#%% \n",
          "is_executing": false
        }
      },
      "execution_count": 8,
      "outputs": []
    },
    {
      "cell_type": "markdown",
      "source": "### create the estimation table\n### first column is the real value, last 3 ip columns are the estimates",
      "metadata": {
        "pycharm": {
          "metadata": false,
          "name": "#%% md\n"
        }
      }
    },
    {
      "cell_type": "code",
      "execution_count": 13,
      "outputs": [
        {
          "name": "stdout",
          "text": [
            "1\t193.23.181.44\t0.136\t193.23.181.44\t0.15\t193.23.181.44\t0.13\t193.23.181.44\t0.139\n2\t174.128.246.102\t0.076\t173.236.31.226\t0.08\t174.37.196.55\t0.091\t174.128.246.102\t0.074\n3\t174.37.196.55\t0.074\t67.19.72.206\t0.07\t67.19.72.206\t0.08\t174.37.196.55\t0.071\n4\t67.19.72.206\t0.069\t72.20.15.61\t0.07\t174.128.246.102\t0.074\t72.20.15.61\t0.068\n5\t72.20.15.61\t0.066\t174.128.246.102\t0.06\t72.20.15.61\t0.059\t67.19.72.206\t0.065\n6\t173.236.31.226\t0.038\t174.37.196.55\t0.06\t46.4.36.120\t0.045\t184.154.89.154\t0.039\n7\t184.154.89.154\t0.037\t46.4.36.120\t0.03\t184.154.89.154\t0.033\t46.4.36.120\t0.036\n8\t46.4.36.120\t0.036\t184.82.147.252\t0.03\t173.236.31.226\t0.03\t173.236.31.226\t0.035\n9\t147.32.80.9\t0.017\t64.12.90.33\t0.02\t147.32.80.9\t0.025\t147.32.80.9\t0.018\n10\t217.163.21.37\t0.015\t65.55.92.168\t0.02\t217.163.21.36\t0.019\t217.163.21.37\t0.016\n"
          ],
          "output_type": "stream"
        }
      ],
      "source": "for i in range(n):\n    line \u003d [i+1, true[\u0027ips\u0027][i], round(true[\u0027freqs\u0027][i],3)]\n    for j,k in enumerate(amount_samples):\n        line.append(estimates[j][\u0027ips\u0027][i])\n        line.append(round(estimates[j][\u0027freqs\u0027][i],3))\n    print(\"\\t\".join([str(x) for x in line]))",
      "metadata": {
        "pycharm": {
          "metadata": false,
          "name": "#%%\n",
          "is_executing": false
        }
      }
    },
    {
      "cell_type": "markdown",
      "source": "### Performance per k, frequency distance",
      "metadata": {
        "pycharm": {
          "metadata": false,
          "name": "#%% md\n"
        }
      }
    },
    {
      "cell_type": "code",
      "execution_count": 19,
      "outputs": [],
      "source": "def freq_distance(true_values, estimate):\n    estimate_map \u003d {}\n    for index, ip in enumerate(estimate[\u0027ips\u0027]):\n        estimate_map[ip] \u003d estimate[\u0027freqs\u0027][index]\n    score \u003d 0\n    for index, ip in enumerate(true[\u0027ips\u0027]):\n        if ip in estimate_map:\n            score +\u003d abs(true_values[\u0027freqs\u0027][index] - estimate_map[ip])\n        else:\n            score +\u003d true_values[\u0027freqs\u0027][index]\n    return score",
      "metadata": {
        "pycharm": {
          "metadata": false,
          "name": "#%%\n",
          "is_executing": false
        }
      }
    },
    {
      "cell_type": "markdown",
      "source": "### print recall, distance",
      "metadata": {
        "pycharm": {
          "metadata": false,
          "name": "#%% md\n"
        }
      }
    },
    {
      "cell_type": "code",
      "execution_count": 20,
      "outputs": [
        {
          "name": "stdout",
          "text": [
            "k\trecall\tdistance\n100\t0.7\t0.167\n1000\t0.9\t0.086\n5000\t1.0\t0.0196\n"
          ],
          "output_type": "stream"
        }
      ],
      "source": "print(\"\\t\".join([\u0027k\u0027,\u0027recall\u0027,\u0027distance\u0027]))\nfor j,k in enumerate(amount_samples):\n    recall \u003d float(len(np.intersect1d(true[\u0027ips\u0027], estimates[j][\u0027ips\u0027]))) / float(n)\n    freq_score \u003d round(freq_distance(true, estimates[j]),4)\n    print(\"{}\\t{}\\t{}\".format(k, recall, freq_score))",
      "metadata": {
        "pycharm": {
          "metadata": false,
          "name": "#%%\n",
          "is_executing": false
        }
      }
    }
  ],
  "metadata": {
    "kernelspec": {
      "name": "pycharm-b0b00ddc",
      "language": "python",
      "display_name": "PyCharm (assignment2)"
    },
    "stem_cell": {
      "cell_type": "raw",
      "source": "",
      "metadata": {
        "pycharm": {
          "metadata": false
        }
      }
    }
  },
  "nbformat": 4,
  "nbformat_minor": 0
}