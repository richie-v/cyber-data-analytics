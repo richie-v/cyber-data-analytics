{
  "cells": [
    {
      "cell_type": "markdown",
      "metadata": {
        "collapsed": true,
        "pycharm": {
          "name": "#%% md\n"
        }
      },
      "source": "## Count min sketch"
    },
    {
      "cell_type": "code",
      "execution_count": 1,
      "outputs": [],
      "source": "import pandas as pd\nimport numpy as np\nimport time\nimport random",
      "metadata": {
        "pycharm": {
          "metadata": false,
          "name": "#%%\n",
          "is_executing": false
        }
      }
    },
    {
      "cell_type": "markdown",
      "source": "### Prepare data",
      "metadata": {
        "pycharm": {
          "metadata": false,
          "name": "#%% md\n"
        }
      }
    },
    {
      "cell_type": "code",
      "execution_count": 2,
      "outputs": [],
      "source": "df \u003d \u0027data/capture20110811_43_.pcap.netflow.labeled\u0027\ninfected_ip \u003d \u0027147.32.84.165\u0027\nn \u003d 10\nwith open(df, \"r\") as ins:\n    lines \u003d ins.readlines()",
      "metadata": {
        "pycharm": {
          "metadata": false,
          "name": "#%%\n",
          "is_executing": false
        }
      }
    },
    {
      "cell_type": "markdown",
      "source": "### Algorithm for sketching",
      "metadata": {
        "pycharm": {
          "metadata": false,
          "name": "#%% md\n"
        }
      }
    },
    {
      "cell_type": "code",
      "execution_count": 3,
      "outputs": [],
      "source": "# ranges for hash functions\nds \u003d [50,125,200,600]\nws \u003d [500,625,1000,1500]\n# run 5 iterations to average the run-time\niterations \u003d 5\nrun_times \u003d np.zeros([iterations,len(ds)])\n\nfor it in range(iterations):\n    estimates \u003d []\n    \n    for i in range(len(ds)):\n        d \u003d ds[i]\n        w \u003d ws[i]\n        total \u003d 0\n        \n        ip_dict \u003d {}\n        rev_ip_dict \u003d {}\n\n        cm \u003d np.zeros((d,w))\n        k \u003d 0\n\n        coefs \u003d []\n        consts \u003d []\n\n        # use the hash function from the slides\n        def hash_func(coef,const,base,value):\n            return (coef*value + const)%base\n\n        start \u003d time.time()\n\n        for j in range(d):\n            temp \u003d random.randint(1,d)\n            while temp in coefs:\n                temp \u003d random.randint(1,d)\n            coefs.append(temp)\n            temp \u003d random.randint(1, d)\n            while temp in consts:\n                temp \u003d random.randint(1,d)\n            consts.append(temp)\n\n\n        for line in lines:\n            parts \u003d line.split()\n            ip_port_src \u003d parts[4].split(\u0027:\u0027)\n            ip_src \u003d ip_port_src[0]\n            \n            # check if ip is infected host\n            if ip_src \u003d\u003d infected_ip:\n                total +\u003d 1\n                ip_port_dst \u003d parts[6].split(\u0027:\u0027)\n                dst_ip \u003d ip_port_dst[0]\n                \n                # check which id is from ip\n                if dst_ip not in ip_dict.keys():\n                    ip_dict[dst_ip] \u003d k\n                    rev_ip_dict[k] \u003d dst_ip\n                    k +\u003d 1\n                temp \u003d ip_dict[dst_ip]\n                # update sketch by acquiring new hash from the function\n                for j in range(d):\n                    col \u003d hash_func(coefs[j], consts[j], w, temp)\n                    cm[j, col] \u003d cm[j, col] + 1\n\n        # find the minimum value for each IP\n        A \u003d np.zeros((k - 1, 1), dtype\u003dnp.int32)\n        for l in range(k - 1):\n            minimum \u003d total\n            for j in range(d):\n                temp \u003d cm[j][hash_func(coefs[j], consts[j], w, l)]\n                if temp \u003c minimum:\n                    A[l] \u003d temp\n                    minimum \u003d temp\n\n        # find the 10 most frequent IPs\n        out \u003d A.flatten()\n        res \u003d np.argsort(out)\n        ips_estimated \u003d []\n        counts \u003d []\n\n        \n        # stop time recording\n        stop \u003d time.time()\n        run_times[it][i] \u003d stop - start\n        \n        for j in res[-10:]:\n            ips_estimated.append(rev_ip_dict[j])\n            counts.append(round(out[j]/total,3))\n        \n\n        # store results for evaluation\n        estimates.append({\n            \u0027ips\u0027: np.array(ips_estimated),\n            \u0027freqs\u0027: np.array(counts),\n        })",
      "metadata": {
        "pycharm": {
          "metadata": false,
          "name": "#%%\n",
          "is_executing": false
        }
      }
    },
    {
      "cell_type": "markdown",
      "source": "### Get top 10",
      "metadata": {
        "pycharm": {
          "metadata": false,
          "name": "#%% md\n"
        }
      }
    },
    {
      "cell_type": "code",
      "execution_count": 4,
      "outputs": [],
      "source": "\n# calculate the actual counts of each IP\nips \u003d {}\ninfected_flow_count \u003d 0\nn \u003d 10\nwith open(\"data/capture20110811_43_.pcap.netflow.labeled\", \"r\") as ins:\n    for line in ins:\n        parts \u003d line.split()\n        ip_port_src \u003d parts[4].split(\u0027:\u0027)    \n        ip_src \u003d ip_port_src[0]\n        if ip_src \u003d\u003d infected_ip:\n            ip_port_dst \u003d parts[6].split(\u0027:\u0027)\n            ip_dst \u003d ip_port_dst[0]\n            if not ip_dst in ips:\n                ips[ip_dst] \u003d 0\n            ips[ip_dst] +\u003d 1\n            infected_flow_count +\u003d 1\n\nips_ip \u003d np.array(list(ips.keys()))\nips_count \u003d np.array(list(ips.values()))\n\n# keep the top 10 IPs\nind \u003d np.argsort(-ips_count)[:n]\ntrue_values \u003d {}\ntrue_values[\u0027ips\u0027] \u003d ips_ip[ind]\ntrue_values[\u0027freqs\u0027] \u003d ips_count[ind] / infected_flow_count",
      "metadata": {
        "pycharm": {
          "metadata": false,
          "name": "#%%\n",
          "is_executing": false
        }
      }
    },
    {
      "cell_type": "markdown",
      "source": "### Create estimation table",
      "metadata": {
        "pycharm": {
          "metadata": false,
          "name": "#%% md\n"
        }
      }
    },
    {
      "cell_type": "code",
      "execution_count": 5,
      "outputs": [
        {
          "name": "stdout",
          "text": [
            "1\t193.23.181.44\t0.136\t62.80.17.242\t0.136\t24.113.32.85\t0.136\t193.23.181.44\t0.136\t193.23.181.44\t0.136\n2\t174.128.246.102\t0.076\t200.143.5.118\t0.136\t193.23.181.44\t0.136\t209.59.172.38\t0.136\t62.80.17.242\t0.136\n3\t174.37.196.55\t0.074\t209.59.172.38\t0.136\t209.249.12.184\t0.136\t174.128.246.102\t0.076\t174.128.246.102\t0.076\n4\t67.19.72.206\t0.069\t193.23.181.44\t0.136\t117.204.73.246\t0.076\t204.11.209.99\t0.076\t130.220.2.1\t0.076\n5\t72.20.15.61\t0.066\t174.128.246.102\t0.076\t174.128.246.102\t0.076\t174.37.196.55\t0.074\t68.67.185.214\t0.074\n6\t173.236.31.226\t0.038\t204.11.209.99\t0.076\t193.109.255.147\t0.076\t67.69.240.18\t0.074\t174.37.196.55\t0.074\n7\t184.154.89.154\t0.037\t64.182.71.51\t0.076\t216.163.188.57\t0.074\t67.19.72.206\t0.069\t195.130.90.41\t0.069\n8\t46.4.36.120\t0.036\t130.220.2.1\t0.076\t174.37.196.55\t0.074\t63.209.10.244\t0.069\t67.19.72.206\t0.069\n9\t147.32.80.9\t0.017\t85.158.228.111\t0.074\t216.195.70.217\t0.074\t72.20.15.61\t0.066\t12.168.76.27\t0.066\n10\t217.163.21.37\t0.015\t174.37.196.55\t0.074\t67.19.72.206\t0.069\t209.223.88.11\t0.066\t72.20.15.61\t0.066\n"
          ],
          "output_type": "stream"
        }
      ],
      "source": "for i in range(n):\n    line \u003d [i+1, true_values[\u0027ips\u0027][i], round(true_values[\u0027freqs\u0027][i],3)]\n    for j,k in enumerate(ws):\n        line.append(estimates[j][\u0027ips\u0027][-i-1])\n        line.append(round(estimates[j][\u0027freqs\u0027][-i-1],3))\n    print(\"\\t\".join([str(x) for x in line]))",
      "metadata": {
        "pycharm": {
          "metadata": false,
          "name": "#%%\n",
          "is_executing": false
        }
      }
    },
    {
      "cell_type": "markdown",
      "source": "### Get recall",
      "metadata": {
        "pycharm": {
          "metadata": false,
          "name": "#%% md\n"
        }
      }
    },
    {
      "cell_type": "code",
      "execution_count": 6,
      "outputs": [],
      "source": "def freq_distance(true, estimate):\n    estimate_map \u003d {}\n    for i, ip in enumerate(estimate[\u0027ips\u0027]):\n        estimate_map[ip] \u003d estimate[\u0027freqs\u0027][i]\n    \n    score \u003d 0\n    for i, ip in enumerate(true[\u0027ips\u0027]):\n        if ip in estimate_map:\n            score +\u003d abs(true[\u0027freqs\u0027][i] - estimate_map[ip])\n        else:\n            score +\u003d true[\u0027freqs\u0027][i]\n    return score",
      "metadata": {
        "pycharm": {
          "metadata": false,
          "name": "#%% \n",
          "is_executing": false
        }
      }
    },
    {
      "cell_type": "code",
      "execution_count": 7,
      "outputs": [
        {
          "name": "stdout",
          "text": [
            "(500, 50)\t0.3\t0.2791\t12.655\n(625, 125)\t0.4\t0.2101\t17.679\n(1000, 200)\t0.5\t0.1451\t22.468\n(1500, 600)\t0.5\t0.1451\t49.837\n"
          ],
          "output_type": "stream"
        }
      ],
      "source": "##print\nfor j in range(len(estimates)):\n    recall \u003d float(len(np.intersect1d(true_values[\u0027ips\u0027], estimates[j][\u0027ips\u0027]))) / float(n)\n    freq_score \u003d freq_distance(true_values, estimates[j])\n    run_time \u003d round(np.mean(run_times,axis\u003d0)[j],3)\n    print(\"{}\\t{}\\t{}\\t{}\".format((ws[j],ds[j]), recall, round(freq_score,4),run_time))\n",
      "metadata": {
        "pycharm": {
          "metadata": false,
          "name": "#%%\n",
          "is_executing": false
        }
      }
    }
  ],
  "metadata": {
    "language_info": {
      "codemirror_mode": {
        "name": "ipython",
        "version": 2
      },
      "file_extension": ".py",
      "mimetype": "text/x-python",
      "name": "python",
      "nbconvert_exporter": "python",
      "pygments_lexer": "ipython2",
      "version": "2.7.6"
    },
    "kernelspec": {
      "name": "pycharm-b0b00ddc",
      "language": "python",
      "display_name": "PyCharm (assignment2)"
    }
  },
  "nbformat": 4,
  "nbformat_minor": 0
}