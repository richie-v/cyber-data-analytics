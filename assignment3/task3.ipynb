{
  "cells": [
    {
      "cell_type": "markdown",
      "metadata": {
        "collapsed": true,
        "pycharm": {
          "name": "#%% md\n"
        }
      },
      "source": "### Flow data discretization task"
    },
    {
      "cell_type": "code",
      "execution_count": 1,
      "outputs": [],
      "source": "import pandas as pd\nimport numpy as np\nimport matplotlib.pyplot as plt",
      "metadata": {
        "pycharm": {
          "metadata": false,
          "name": "#%%\n",
          "is_executing": false
        }
      }
    },
    {
      "cell_type": "markdown",
      "source": "### Pre-process data and create new columns to have a better overview",
      "metadata": {
        "pycharm": {
          "metadata": false,
          "name": "#%% md\n"
        }
      }
    },
    {
      "cell_type": "markdown",
      "source": "### remove background data",
      "metadata": {
        "pycharm": {
          "metadata": false
        }
      }
    },
    {
      "cell_type": "code",
      "execution_count": 2,
      "outputs": [],
      "source": "names \u003d [\u0027date\u0027, \u0027time\u0027, \u0027protocol_num\u0027, \u0027protocol\u0027, \u0027src\u0027, \u0027direction\u0027, \u0027dst\u0027, \u0027flags\u0027, \u0027tos\u0027, \u0027packets\u0027, \u0027bytes\u0027, \u0027flows\u0027, \u0027label\u0027]\ndf \u003d pd.read_csv(\u0027data/capture20110818_51_.pcap.netflow.labeled\u0027,skiprows\u003d1,header\u003d0,sep\u003d\u0027\\s+\u0027,names\u003dnames)\n\n## remove background data\ndf \u003d df[df[\u0027label\u0027] !\u003d \u0027Background\u0027]",
      "metadata": {
        "pycharm": {
          "metadata": false,
          "name": "#%% \n",
          "is_executing": false
        }
      }
    },
    {
      "cell_type": "code",
      "execution_count": 3,
      "outputs": [],
      "source": "# load data\n# split ip:port columns\ndf[\u0027src_ip\u0027], df[\u0027src_port\u0027] \u003d df[\u0027src\u0027].str.split(\u0027:\u0027, 1).str\ndf[\u0027dst_ip\u0027], df[\u0027dst_port\u0027] \u003d df[\u0027dst\u0027].str.split(\u0027:\u0027, 1).str\ndf[\u0027src_ip_num\u0027] \u003d pd.Categorical(df[\u0027src_ip\u0027], categories\u003ddf[\u0027src_ip\u0027].unique()).codes\ndf[\u0027dst_ip_num\u0027] \u003d pd.Categorical(df[\u0027dst_ip\u0027], categories\u003ddf[\u0027dst_ip\u0027].unique()).codes\n\n# convert categorical data\ndf[\u0027protocol_num\u0027] \u003d pd.Categorical(df[\u0027protocol\u0027], categories\u003ddf[\u0027protocol\u0027].unique()).codes\n\n# merge date and time columns\ndf[\u0027date_time\u0027] \u003d pd.to_datetime(df[[\u0027date\u0027, \u0027time\u0027]].apply(lambda x: \u0027 \u0027.join(x), axis\u003d1))\n",
      "metadata": {
        "pycharm": {
          "metadata": false,
          "name": "#%%\n",
          "is_executing": false
        }
      }
    },
    {
      "cell_type": "markdown",
      "source": "### Now we have to collect data on infected vs normal",
      "metadata": {
        "pycharm": {
          "metadata": false,
          "name": "#%% md\n"
        }
      }
    },
    {
      "cell_type": "code",
      "execution_count": 4,
      "outputs": [],
      "source": "infected_ip \u003d \u0027147.32.84.165\u0027\nnormal_ips  \u003d [\u0027147.32.84.170\u0027, \u0027147.32.84.134\u0027, \u0027147.32.84.164\u0027, \u0027147.32.87.36\u0027, \u0027147.32.80.9\u0027, \u0027147.32.87.11\u0027]\n\ninfected \u003d df[df[\u0027src_ip\u0027] \u003d\u003d infected_ip]\nnormal \u003d df[df[\u0027src_ip\u0027].isin(normal_ips)]",
      "metadata": {
        "pycharm": {
          "metadata": false,
          "name": "#%%\n",
          "is_executing": false
        }
      }
    },
    {
      "cell_type": "code",
      "execution_count": 5,
      "outputs": [
        {
          "name": "stdout",
          "text": [
            "packets\ninfected 15.838704811704963 102.14974396846016\nnormal 11.064596117720725 119.77622031606509\n\nbytes\ninfected 14104.12494343607 84289.07804858816\nnormal 8127.968991859737 123680.56803508165\n\ndst_ip_num\ninfected 405.81396751973455 24.744904651069245\nnormal 106.71509079524108 168.09701466960666\n\nprotocol_num\ninfected 1.941676303484338 0.30991983607651935\nnormal 0.28065122103944895 0.4874454661662016\n\nflows\ninfected 1.0 0.0\nnormal 1.0 0.0\n\ntos\ninfected 0.0 0.0\nnormal 0.0 0.0\n\nprotocol_num\ninfected 1.941676303484338 0.30991983607651935\nnormal 0.28065122103944895 0.4874454661662016\n\nflags\n[\u0027INT\u0027 \u0027SRPA_\u0027 \u0027RA_\u0027 \u0027SPA_\u0027 \u0027A_\u0027 \u0027PA_\u0027 \u0027SA_\u0027 \u0027UNK\u0027 \u0027TST\u0027 \u0027SEC\u0027 \u0027ROB\u0027 \u0027RTS\u0027\n \u0027MAS\u0027 \u0027ECO\u0027 \u0027RED\u0027 \u0027IRQ\u0027 \u0027TXD\u0027 \u0027DNQ\u0027 \u0027RTA\u0027 \u0027AHA\u0027 \u0027___\u0027 \u0027MHR\u0027 \u0027MRP\u0027 \u0027MRQ\u0027\n \u0027PTB\u0027 \u0027WAY\u0027 \u0027NNA\u0027 \u0027PHO\u0027 \u0027IAH\u0027 \u0027TRC\u0027 \u0027NNS\u0027 \u0027NRS\u0027 \u0027NRA\u0027 \u0027SKP\u0027 \u0027PAR\u0027 \u0027SRC\u0027\n \u0027UR\u0027 \u0027DNP\u0027 \u0027DCE\u0027 \u0027URHU\u0027]\n[\u0027A_\u0027 \u0027FA_\u0027 \u0027PA_\u0027 \u0027INT\u0027 \u0027FSA_\u0027 \u0027_FSA\u0027 \u0027FSPA_\u0027 \u0027_FSPA\u0027 \u0027SPA_\u0027 \u0027FPA_\u0027 \u0027RA_\u0027\n \u0027SA_\u0027 \u0027R_\u0027 \u0027FSRPA_\u0027 \u0027FRA_\u0027 \u0027_FSRA\u0027 \u0027URP\u0027 \u0027RPA_\u0027 \u0027SRPA_\u0027 \u0027FRPA_\u0027 \u0027S_\u0027\n \u0027ECO\u0027 \u0027ECR\u0027 \u0027_FSRPA\u0027]\n[\u0027A_\u0027 \u0027ECO\u0027 \u0027INT\u0027 \u0027PA_\u0027 \u0027RA_\u0027 \u0027SA_\u0027 \u0027SPA_\u0027 \u0027SRPA_\u0027]\n"
          ],
          "output_type": "stream"
        }
      ],
      "source": "def stats(feat):\n    print(\"infected\", np.mean(infected[feat]), np.std(infected[feat]))\n    print(\"normal\", np.mean(normal[feat]), np.std(normal[feat]))\n    print()\n\nfeat \u003d \u0027packets\u0027\nprint(feat)\nstats(feat)\n\nfeat \u003d \u0027bytes\u0027\nprint(feat)\nstats(feat)\n\nfeat \u003d \u0027dst_ip_num\u0027\nprint(feat)\nstats(feat)\n\nfeat \u003d \u0027protocol_num\u0027\nprint(feat)\nstats(feat)\n\nfeat \u003d \u0027flows\u0027\nprint(feat)\nstats(feat)\n\nfeat \u003d \u0027tos\u0027\nprint(feat)\nstats(feat)\n\nfeat \u003d \u0027protocol_num\u0027\nprint(feat)\nstats(feat)\n\nfeat \u003d \u0027flags\u0027\nprint(feat)\nprint(infected[feat].unique())\nprint(normal[feat].unique())\nprint(np.intersect1d(infected[feat].unique(), normal[feat].unique()))",
      "metadata": {
        "pycharm": {
          "metadata": false,
          "name": "#%%\n",
          "is_executing": false
        }
      }
    },
    {
      "cell_type": "markdown",
      "source": "### as features we select protocol_num and bytes, because they both varied the most between normal and infected",
      "metadata": {
        "pycharm": {
          "metadata": false
        }
      }
    },
    {
      "cell_type": "code",
      "execution_count": 6,
      "outputs": [
        {
          "data": {
            "text/plain": "\u003cFigure size 432x288 with 1 Axes\u003e",
            "image/png": "[encoded data removed]"
          },
          "metadata": {
            "needs_background": "light"
          },
          "output_type": "display_data"
        }
      ],
      "source": "feat1 \u003d \u0027protocol_num\u0027\nfeat2 \u003d \u0027bytes\u0027\nfigure \u003d plt.figure()\nplt.scatter(normal[feat1], normal[feat2], label\u003d\u0027normal hosts\u0027)\nplt.scatter(infected[feat1], infected[feat2], label\u003d\u0027infected\u0027)\nplt.xlabel(feat1)\nplt.ylabel(feat2)\nplt.legend()\nplt.show()\nfigure.savefig(\u0027features.png\u0027)",
      "metadata": {
        "pycharm": {
          "metadata": false,
          "name": "#%%\n",
          "is_executing": false
        }
      }
    },
    {
      "cell_type": "markdown",
      "source": "### Now we have to create the function for discretization",
      "metadata": {
        "pycharm": {
          "metadata": false,
          "name": "#%% md\n"
        }
      }
    },
    {
      "cell_type": "code",
      "execution_count": 7,
      "outputs": [],
      "source": "class M_num:\n    \u0027\u0027\u0027\n    Compute the mapping for numerical features\n    \u0027\u0027\u0027\n    \n    # paramater to change number of percentiles\n    p \u003d 5\n    \n    # percentile vals contains the feature values corresponding to the different percentiles\n    percentile_vals \u003d []\n    # s is the size of the feature (i.e. |M_i|)\n    s \u003d 0\n    # feature that we\u0027re working with\n    feat \u003d \u0027\u0027\n    # the full dataframe\n    df \u003d None\n\n    def __init__(self, df, feat):\n        percentiles \u003d np.arange(.1,1,1 / self.p)\n        self.percentile_vals \u003d map(lambda p: np.percentile(df[feat],p), percentiles)\n        self.s \u003d len(percentiles)\n        self.feat \u003d feat\n        self.df \u003d df\n\n    # return the size |M_i|\n    def size(self):\n        return self.s\n\n    # return the value M_i\n    def val(self, row):\n        val \u003d row[self.feat]\n        prev \u003d 0\n        for i,cur in enumerate(self.percentile_vals):\n            if val \u003e\u003d prev and val \u003c cur:\n                return i\n            prev \u003d cur\n        return 0\n\nclass M_cat:\n    \u0027\u0027\u0027\n    Compute the mapping for categorical features\n    \u0027\u0027\u0027\n    \n    # s is the size of the feature (i.e. |M_i|)\n    s \u003d 0\n    # feature that we\u0027re working with\n    feat \u003d \u0027\u0027\n    # the full dataframe\n    df \u003d None\n\n    def __init__(self, df, feat):\n        self.s \u003d len(df[feat].unique())\n        self.feat \u003d feat\n        self.df \u003d df\n\n    # return the size |M_i|\n    def size(self):\n        return self.s\n    \n    # return the value M_i\n    def val(self, row):\n        return row[self.feat]\n\n# encode a single record \ndef encode_flow(feats, row):\n    code \u003d 0\n    space_size \u003d 1\n    for feat in feats:\n        space_size *\u003d feats[feat].size()\n    for feat in feats:\n        s \u003d feats[feat].size()\n        v \u003d feats[feat].val(row)\n        code +\u003d v * (space_size / s)\n        space_size \u003d space_size / s\n    return code\n\n# encode an entire series of records\ndef encode_series(df, feats):\n    encoded \u003d []\n    for index, row in df.iterrows():\n        encoded.append(encode_flow(feats, row))\n    return encoded",
      "metadata": {
        "pycharm": {
          "metadata": false,
          "name": "#%%\n",
          "is_executing": false
        }
      }
    },
    {
      "cell_type": "markdown",
      "source": "### and the plot",
      "metadata": {
        "pycharm": {
          "metadata": false,
          "name": "#%% md\n"
        }
      }
    },
    {
      "cell_type": "code",
      "execution_count": 8,
      "outputs": [
        {
          "data": {
            "text/plain": "\u003cFigure size 432x288 with 1 Axes\u003e",
            "image/png": "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\u003d\u003d\n"
          },
          "metadata": {
            "needs_background": "light"
          },
          "output_type": "display_data"
        }
      ],
      "source": "\n# compare one normal host with the infected host\nnormal_one_host \u003d normal[normal[\u0027src_ip\u0027] \u003d\u003d normal_ips[0]]\nfigure \u003d plt.figure()\nfeats \u003d {\u0027protocol_num\u0027: M_cat(normal_one_host, \u0027protocol_num\u0027), \u0027bytes\u0027: M_num(normal_one_host, \u0027bytes\u0027)}\nplt.plot(encode_series(normal_one_host, feats), label\u003d\u0027normal ({})\u0027.format(normal_ips[0]))\nfeats \u003d {\u0027protocol_num\u0027: M_cat(infected, \u0027protocol_num\u0027), \u0027bytes\u0027: M_num(infected, \u0027bytes\u0027)}\nplt.plot(encode_series(infected, feats), label\u003d\u0027infected (147.32.84.165)\u0027)\nplt.xlabel(\u0027record\u0027)\nplt.ylabel(\u0027code\u0027)\nplt.legend()\nplt.show()\nfigure.savefig(\u0027disretization_figure.png\u0027)",
      "metadata": {
        "pycharm": {
          "metadata": false,
          "name": "#%%\n",
          "is_executing": false
        }
      }
    }
  ],
  "metadata": {
    "language_info": {
      "codemirror_mode": {
        "name": "ipython",
        "version": 2
      },
      "file_extension": ".py",
      "mimetype": "text/x-python",
      "name": "python",
      "nbconvert_exporter": "python",
      "pygments_lexer": "ipython2",
      "version": "2.7.6"
    },
    "kernelspec": {
      "name": "pycharm-b0b00ddc",
      "language": "python",
      "display_name": "PyCharm (assignment2)"
    }
  },
  "nbformat": 4,
  "nbformat_minor": 0
}