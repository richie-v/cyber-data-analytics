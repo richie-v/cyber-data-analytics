{
  "cells": [
    {
      "cell_type": "markdown",
      "metadata": {
        "collapsed": true,
        "pycharm": {
          "name": "#%% md\n"
        }
      },
      "source": "## Botnet Profiling\n### functions"
    },
    {
      "cell_type": "code",
      "execution_count": 2,
      "outputs": [],
      "source": "import pandas as pd\nimport numpy as np\nfrom hmmlearn.hmm import GaussianHMM\n\n\n# classes and functions used for the discretization of flow data\nclass M_num:\n    \u0027\u0027\u0027\n    Compute the mapping for numerical features\n    \u0027\u0027\u0027\n\n    # paramater to change number of percentiles\n    p \u003d 5\n\n    # percentile vals contains the feature values corresponding to the different percentiles\n    percentile_vals \u003d []\n    # s is the size of the feature (i.e. |M_i|)\n    s \u003d 0\n    # feature that we\u0027re working with\n    feat \u003d \u0027\u0027\n    # the full dataframe\n    df \u003d None\n\n    def __init__(self, df, feat):\n        percentiles \u003d np.arange(.1, 1, 1 / self.p)\n        self.percentile_vals \u003d map(lambda p: np.percentile(df[feat], p), percentiles)\n        self.s \u003d len(percentiles)\n        self.feat \u003d feat\n        self.df \u003d df\n\n    # return the size |M_i|\n    def size(self):\n        return self.s\n\n    # return the value M_i\n    def val(self, row):\n        val \u003d row[self.feat]\n        prev \u003d 0\n        for i, cur in enumerate(self.percentile_vals):\n            if val \u003e\u003d prev and val \u003c cur:\n                return i\n            prev \u003d cur\n        return 0\n\n\nclass M_cat:\n    \u0027\u0027\u0027\n    Compute the mapping for categorical features\n    \u0027\u0027\u0027\n\n    # s is the size of the feature (i.e. |M_i|)\n    s \u003d 0\n    # feature that we\u0027re working with\n    feat \u003d \u0027\u0027\n    # the full dataframe\n    df \u003d None\n\n    def __init__(self, df, feat):\n        self.s \u003d len(df[feat].unique())\n        self.feat \u003d feat\n        self.df \u003d df\n\n    # return the size |M_i|\n    def size(self):\n        return self.s\n\n    # return the value M_i\n    def val(self, row):\n        return row[self.feat]\n\n\n# encode a single flow\ndef encode_flow(feats, row):\n    code \u003d 0\n    space_size \u003d 1\n    for feat in feats:\n        space_size *\u003d feats[feat].size()\n    for feat in feats:\n        s \u003d feats[feat].size()\n        v \u003d feats[feat].val(row)\n        code +\u003d v * (space_size / s)\n        space_size \u003d space_size / s\n    return code\n\n\n# encode an entire series of flows\ndef encode_series(df, feats):\n    encoded \u003d []\n    for index, row in df.iterrows():\n        encoded.append(encode_flow(feats, row))\n    return encoded",
      "metadata": {
        "pycharm": {
          "metadata": false,
          "name": "#%%\n",
          "is_executing": false
        }
      }
    },
    {
      "cell_type": "markdown",
      "source": "### Pre-process the data",
      "metadata": {
        "pycharm": {
          "metadata": false,
          "name": "#%% md\n"
        }
      }
    },
    {
      "cell_type": "code",
      "execution_count": 3,
      "outputs": [],
      "source": "# load data\nnames \u003d [\u0027date\u0027, \u0027time\u0027, \u0027duration\u0027, \u0027protocol\u0027, \u0027src\u0027, \u0027direction\u0027, \u0027dst\u0027, \u0027flags\u0027, \u0027tos\u0027, \u0027packets\u0027, \u0027bytes\u0027, \u0027flows\u0027, \u0027label\u0027]\ndf \u003d pd.read_csv(\u0027data/capture20110818_51_.pcap.netflow.labeled\u0027,skiprows\u003d1,header\u003d0,sep\u003d\u0027\\s+\u0027,names\u003dnames)\n# remove background data\ndf \u003d df[df[\u0027label\u0027] !\u003d \u0027Background\u0027]\n# process the rest of the data\ndf[\u0027src_ip\u0027], df[\u0027src_port\u0027] \u003d df[\u0027src\u0027].str.split(\u0027:\u0027, 1).str\ndf[\u0027dst_ip\u0027], df[\u0027dst_port\u0027] \u003d df[\u0027dst\u0027].str.split(\u0027:\u0027, 1).str\ndf[\u0027src_ip_num\u0027] \u003d pd.Categorical(df[\u0027src_ip\u0027], categories\u003ddf[\u0027src_ip\u0027].unique()).codes\ndf[\u0027dst_ip_num\u0027] \u003d pd.Categorical(df[\u0027dst_ip\u0027], categories\u003ddf[\u0027dst_ip\u0027].unique()).codes\n# handle categorical data\ndf[\u0027protocol_num\u0027] \u003d pd.Categorical(df[\u0027protocol\u0027], categories\u003ddf[\u0027protocol\u0027].unique()).codes",
      "metadata": {
        "pycharm": {
          "metadata": false,
          "name": "#%%\n",
          "is_executing": false
        }
      }
    },
    {
      "cell_type": "markdown",
      "source": "## Discretization of infected host data and more profiling",
      "metadata": {
        "pycharm": {
          "metadata": false,
          "name": "#%% md\n",
          "is_executing": false
        }
      }
    },
    {
      "cell_type": "code",
      "execution_count": null,
      "outputs": [],
      "source": "# the infected host flows that we will profile\nchosen \u003d df[df[\u0027src_ip\u0027] \u003d\u003d \u0027147.32.84.204\u0027]\n# rest of the hosts split between benign and malicious for testing purposes\nnormal \u003d  [\u0027147.32.84.170\u0027, \u0027147.32.84.134\u0027, \u0027147.32.84.164\u0027, \u0027147.32.87.36\u0027, \u0027147.32.80.9\u0027, \u0027147.32.87.11\u0027]\ninfected \u003d [\u0027147.32.84.165\u0027,\u0027147.32.84.191\u0027,\u0027147.32.84.192\u0027,\u0027147.32.84.193\u0027,\u0027147.32.84.205\u0027,\u0027147.32.84.206\u0027,\u0027147.32.84.207\u0027,\u0027147.32.84.208\u0027,\u0027147.32.84.209\u0027]\n\n# discretization based on the important features found in the previous task\nfeats \u003d {\u0027protocol_num\u0027: M_cat(chosen, \u0027protocol_num\u0027), \u0027bytes\u0027: M_num(chosen, \u0027bytes\u0027)}\nchosen_discrete \u003d encode_series(chosen,feats)\nsliding_window \u003d 10\nsize \u003d len(chosen_discrete) - sliding_window\n# prepare matrix for slinding window\ndata \u003d np.zeros((size,sliding_window),dtype\u003dnp.int32)\nfor i in range(size):\n    data[i] \u003d np.array([flow for flow in chosen_discrete[i:i+sliding_window]])\n\n# use a Gaussian Hidden Markov Model with 4 states. These are from the infected host data\nhmm \u003d GaussianHMM(n_components\u003d4)\nhmm.fit(data)\n# log-likelihood of training host\nll \u003d hmm.decode(data)[0]",
      "metadata": {
        "pycharm": {
          "metadata": false,
          "name": "#%%\n"
        }
      }
    },
    {
      "cell_type": "markdown",
      "source": "## model other host data",
      "metadata": {
        "pycharm": {
          "metadata": false,
          "name": "#%% md\n"
        }
      }
    },
    {
      "cell_type": "code",
      "execution_count": 6,
      "outputs": [],
      "source": "\nlog_likelihood \u003d {}\n\n# log-likelihood data sequence of normal data, calculated from infected host model\nfor ip in normal:\n    # get the flows of that host only\n    host \u003d df[df[\u0027src_ip\u0027] \u003d\u003d ip]\n    # discretize flows using protocol and packet bytes only\n    host_discrete \u003d encode_series(host,feats)\n    size \u003d len(host_discrete) - sliding_window\n    # if host has enough flows for creating a window\n    if size \u003e 0:\n        # create sliding windows sequences\n        data \u003d np.zeros((size,sliding_window),dtype\u003dnp.int32)\n        for i in range(size):\n            data[i] \u003d np.array([flow for flow in host_discrete[i:i+sliding_window]])\n        # get the log-likelihood of the sequential data\n        log_likelihood[ip] \u003d hmm.decode(data)[0]\n    else:\n        log_likelihood[ip] \u003d 0\n\n# same process for infected data\nfor ip in infected:\n    host \u003d df[df[\u0027src_ip\u0027] \u003d\u003d ip]\n    host_discrete \u003d encode_series(host,feats)\n    size \u003d len(host_discrete) - sliding_window\n    if size \u003e 0:\n        data \u003d np.zeros((size,sliding_window),dtype\u003dnp.int32)\n        for i in range(size):\n            data[i] \u003d np.array([flow for flow in host_discrete[i:i+sliding_window]])\n        log_likelihood[ip] \u003d hmm.decode(data)[0]\n    else:\n        log_likelihood[ip] \u003d 0",
      "metadata": {
        "pycharm": {
          "metadata": false,
          "name": "#%% \n",
          "is_executing": false
        }
      }
    },
    {
      "cell_type": "markdown",
      "source": "## Evaluate and print TP/FP/TN/FN",
      "metadata": {
        "pycharm": {
          "metadata": false,
          "name": "#%% md\n"
        }
      }
    },
    {
      "cell_type": "code",
      "execution_count": 7,
      "outputs": [
        {
          "name": "stdout",
          "text": [
            "True Positives : 9\nFalse Positives : 0\nTrue Negatives : 6\nFalse Negatives : 0\n"
          ],
          "output_type": "stream"
        }
      ],
      "source": "# evaluate results using the log-likelihood distance of hosts from the one who trained the model\nTP \u003d 0\nTN \u003d 0\nFP \u003d 0\nFN \u003d 0\npositives \u003d []\nnegatives \u003d []\n\n# \ndist \u003d {}\nfor ip in log_likelihood.keys():\n    # absolute log-likelihood distance\n    dist[ip] \u003d abs(log_likelihood[ip] - ll)\n    # threshold is half log-likelihood\n    if dist[ip] \u003e ll / 2:\n        negatives.append(ip)\n    else:\n        positives.append(ip)\n\n# evaluate all potentially malicious hosts\nfor i in positives:\n    if i in infected:\n        TP +\u003d 1\n    else:\n        FP +\u003d 1\n\n# evaluate all potentially benign hosts\nfor i in negatives:\n    if i in normal:\n        TN +\u003d 1\n    else:\n        FN +\u003d 1\n\nprint(\u0027True Positives : {}\u0027.format(TP))\nprint(\u0027False Positives : {}\u0027.format(FP))\nprint(\u0027True Negatives : {}\u0027.format(TN))\nprint(\u0027False Negatives : {}\u0027.format(FN))",
      "metadata": {
        "pycharm": {
          "metadata": false,
          "name": "#%%\n",
          "is_executing": false
        }
      }
    }
  ],
  "metadata": {
    "language_info": {
      "codemirror_mode": {
        "name": "ipython",
        "version": 2
      },
      "file_extension": ".py",
      "mimetype": "text/x-python",
      "name": "python",
      "nbconvert_exporter": "python",
      "pygments_lexer": "ipython2",
      "version": "2.7.6"
    },
    "kernelspec": {
      "name": "pycharm-b0b00ddc",
      "language": "python",
      "display_name": "PyCharm (assignment2)"
    }
  },
  "nbformat": 4,
  "nbformat_minor": 0
}